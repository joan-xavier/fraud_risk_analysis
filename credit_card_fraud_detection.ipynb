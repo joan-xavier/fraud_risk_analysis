{
 "cells": [
  {
   "cell_type": "markdown",
   "id": "ae9fe974",
   "metadata": {},
   "source": [
    "Data Scientist in Risk and Fraud analytics\n",
    "\n",
    "\n",
    "- Develop and deploy machine learning models to detect, predict, and prevent fraudulent transactions and behavior patterns.(use fraud detection tools)\n",
    "- Design and monitor KPIs to evaluate model performance and improve fraud detection systems over time.\n",
    "- Understanding of supervised and unsupervised fraud detection techniques, including anomaly detection, behavioral modeling, and network analysis.\n",
    "-  identify patterns and trends from data.\n",
    "\n",
    "- deploying machine learning models, statistical methods, and data-driven strategies to detect risky behaviors and prevent fraudulent activities across our products and services.\n",
    "- Conduct deep-dive investigations into fraud cases, creating detailed reports and actionable insights to detect risky behavior and prevent fraudulent activities across various systems and services.\n",
    "- Stay current with emerging fraud techniques, industry best practices, and data science tools\n",
    "\n",
    "Experience working with large datasets and cloud platforms (e.g., AWS, GCP, Azure)."
   ]
  },
  {
   "cell_type": "markdown",
   "id": "d0381061-3534-49d2-9ce4-aadd0803ca9d",
   "metadata": {},
   "source": [
    "1. step: represents a unit of time where 1 step equals 1 hour\n",
    "2. type: type of online transaction\n",
    "3. amount: the amount of the transaction\n",
    "4. nameOrig: customer starting the transaction\n",
    "5. oldbalanceOrg: balance before the transaction\n",
    "6. newbalanceOrig: balance after the transaction\n",
    "7. nameDest: recipient of the transaction\n",
    "8. oldbalanceDest: initial balance of recipient before the transaction\n",
    "9. newbalanceDest: the new balance of recipient after the transaction\n",
    "10. isFraud: fraud transaction binary classififcation problem.Huge imbalance dataset "
   ]
  },
  {
   "cell_type": "code",
   "execution_count": 2,
   "id": "852d8fe8-3b0b-4cce-83d3-8f6ad625deae",
   "metadata": {},
   "outputs": [
    {
     "name": "stdout",
     "output_type": "stream",
     "text": [
      "1.3.2\n"
     ]
    }
   ],
   "source": [
    "import sklearn\n",
    "print(sklearn.__version__)  # should show 1.3.2"
   ]
  },
  {
   "cell_type": "code",
   "execution_count": 3,
   "id": "06734f52-7842-4f6d-ad26-e1ca9589e960",
   "metadata": {},
   "outputs": [],
   "source": [
    "# !pip install scikit-learn==1.3.2"
   ]
  },
  {
   "cell_type": "code",
   "execution_count": 4,
   "id": "be210546",
   "metadata": {},
   "outputs": [],
   "source": [
    "import pandas as pd\n",
    "import numpy as np\n",
    "import matplotlib.pyplot as plt\n",
    "import seaborn as sns\n",
    "import warnings\n",
    "warnings.filterwarnings(\"ignore\")\n",
    "sns.set(style=\"whitegrid\")\n",
    "\n"
   ]
  },
  {
   "cell_type": "markdown",
   "id": "14c13767-6197-451f-922c-a7efcb75bd6e",
   "metadata": {},
   "source": [
    "pip install numpy\n",
    "pip install pandas\n",
    "pip install matplotlib\n",
    "pip install seaborn\n",
    "<!-- pip install scikit-learn -->\n",
    "pip install scikit-learn==1.3.2\n",
    "pip install xgboost\n",
    "pip install imbalanced-learn\n",
    "\n",
    "\n",
    "import pandas as pd\n",
    "from sklearn.model_selection import train_test_split\n",
    "from sklearn.compose import ColumnTransformer\n",
    "from sklearn.preprocessing import StandardScaler, OneHotEncoder\n",
    "from sklearn.metrics import classification_report\n",
    "from imblearn.pipeline import Pipeline\n",
    "from imblearn.over_sampling import SMOTE\n",
    "from sklearn.linear_model import LogisticRegression\n",
    "from sklearn.tree import DecisionTreeClassifier\n",
    "from sklearn.ensemble import RandomForestClassifier\n",
    "from xgboost import XGBClassifier"
   ]
  },
  {
   "cell_type": "markdown",
   "id": "e9e022c9",
   "metadata": {},
   "source": [
    " STEP 1: Exploratory Data Analysis (EDA)\n",
    " Discover patterns, detect anomalies, and understand features"
   ]
  },
  {
   "cell_type": "code",
   "execution_count": 5,
   "id": "bbf5ea3a",
   "metadata": {},
   "outputs": [
    {
     "data": {
      "text/html": [
       "<div>\n",
       "<style scoped>\n",
       "    .dataframe tbody tr th:only-of-type {\n",
       "        vertical-align: middle;\n",
       "    }\n",
       "\n",
       "    .dataframe tbody tr th {\n",
       "        vertical-align: top;\n",
       "    }\n",
       "\n",
       "    .dataframe thead th {\n",
       "        text-align: right;\n",
       "    }\n",
       "</style>\n",
       "<table border=\"1\" class=\"dataframe\">\n",
       "  <thead>\n",
       "    <tr style=\"text-align: right;\">\n",
       "      <th></th>\n",
       "      <th>step</th>\n",
       "      <th>type</th>\n",
       "      <th>amount</th>\n",
       "      <th>nameOrig</th>\n",
       "      <th>oldbalanceOrg</th>\n",
       "      <th>newbalanceOrig</th>\n",
       "      <th>nameDest</th>\n",
       "      <th>oldbalanceDest</th>\n",
       "      <th>newbalanceDest</th>\n",
       "      <th>isFraud</th>\n",
       "      <th>isFlaggedFraud</th>\n",
       "    </tr>\n",
       "  </thead>\n",
       "  <tbody>\n",
       "    <tr>\n",
       "      <th>0</th>\n",
       "      <td>1</td>\n",
       "      <td>PAYMENT</td>\n",
       "      <td>9839.64</td>\n",
       "      <td>C1231006815</td>\n",
       "      <td>170136.0</td>\n",
       "      <td>160296.36</td>\n",
       "      <td>M1979787155</td>\n",
       "      <td>0.0</td>\n",
       "      <td>0.0</td>\n",
       "      <td>0</td>\n",
       "      <td>0</td>\n",
       "    </tr>\n",
       "    <tr>\n",
       "      <th>1</th>\n",
       "      <td>1</td>\n",
       "      <td>PAYMENT</td>\n",
       "      <td>1864.28</td>\n",
       "      <td>C1666544295</td>\n",
       "      <td>21249.0</td>\n",
       "      <td>19384.72</td>\n",
       "      <td>M2044282225</td>\n",
       "      <td>0.0</td>\n",
       "      <td>0.0</td>\n",
       "      <td>0</td>\n",
       "      <td>0</td>\n",
       "    </tr>\n",
       "    <tr>\n",
       "      <th>2</th>\n",
       "      <td>1</td>\n",
       "      <td>TRANSFER</td>\n",
       "      <td>181.00</td>\n",
       "      <td>C1305486145</td>\n",
       "      <td>181.0</td>\n",
       "      <td>0.00</td>\n",
       "      <td>C553264065</td>\n",
       "      <td>0.0</td>\n",
       "      <td>0.0</td>\n",
       "      <td>1</td>\n",
       "      <td>0</td>\n",
       "    </tr>\n",
       "    <tr>\n",
       "      <th>3</th>\n",
       "      <td>1</td>\n",
       "      <td>CASH_OUT</td>\n",
       "      <td>181.00</td>\n",
       "      <td>C840083671</td>\n",
       "      <td>181.0</td>\n",
       "      <td>0.00</td>\n",
       "      <td>C38997010</td>\n",
       "      <td>21182.0</td>\n",
       "      <td>0.0</td>\n",
       "      <td>1</td>\n",
       "      <td>0</td>\n",
       "    </tr>\n",
       "    <tr>\n",
       "      <th>4</th>\n",
       "      <td>1</td>\n",
       "      <td>PAYMENT</td>\n",
       "      <td>11668.14</td>\n",
       "      <td>C2048537720</td>\n",
       "      <td>41554.0</td>\n",
       "      <td>29885.86</td>\n",
       "      <td>M1230701703</td>\n",
       "      <td>0.0</td>\n",
       "      <td>0.0</td>\n",
       "      <td>0</td>\n",
       "      <td>0</td>\n",
       "    </tr>\n",
       "  </tbody>\n",
       "</table>\n",
       "</div>"
      ],
      "text/plain": [
       "   step      type    amount     nameOrig  oldbalanceOrg  newbalanceOrig  \\\n",
       "0     1   PAYMENT   9839.64  C1231006815       170136.0       160296.36   \n",
       "1     1   PAYMENT   1864.28  C1666544295        21249.0        19384.72   \n",
       "2     1  TRANSFER    181.00  C1305486145          181.0            0.00   \n",
       "3     1  CASH_OUT    181.00   C840083671          181.0            0.00   \n",
       "4     1   PAYMENT  11668.14  C2048537720        41554.0        29885.86   \n",
       "\n",
       "      nameDest  oldbalanceDest  newbalanceDest  isFraud  isFlaggedFraud  \n",
       "0  M1979787155             0.0             0.0        0               0  \n",
       "1  M2044282225             0.0             0.0        0               0  \n",
       "2   C553264065             0.0             0.0        1               0  \n",
       "3    C38997010         21182.0             0.0        1               0  \n",
       "4  M1230701703             0.0             0.0        0               0  "
      ]
     },
     "execution_count": 5,
     "metadata": {},
     "output_type": "execute_result"
    }
   ],
   "source": [
    "df = pd.read_csv('AIML_Dataset.csv')\n",
    "df.head()"
   ]
  },
  {
   "cell_type": "markdown",
   "id": "50934db9",
   "metadata": {},
   "source": [
    "Step 1: Data Analysis\n",
    "- statistical summary\n",
    "- Outlier detection\n",
    "- Pattern matchig\n",
    "-Correlation matrics\n",
    "- Daue /Time handling"
   ]
  },
  {
   "cell_type": "markdown",
   "id": "7adad4e6",
   "metadata": {},
   "source": [
    "Statistical summary using\n",
    "- df.describe()\n",
    "- df.info()\n",
    "- df.isnull().sum()"
   ]
  },
  {
   "cell_type": "markdown",
   "id": "e865c0d2",
   "metadata": {},
   "source": [
    " use info( ) to learn abot data types"
   ]
  },
  {
   "cell_type": "code",
   "execution_count": 6,
   "id": "eff338e6",
   "metadata": {},
   "outputs": [
    {
     "name": "stdout",
     "output_type": "stream",
     "text": [
      "<class 'pandas.core.frame.DataFrame'>\n",
      "RangeIndex: 6362620 entries, 0 to 6362619\n",
      "Data columns (total 11 columns):\n",
      " #   Column          Dtype  \n",
      "---  ------          -----  \n",
      " 0   step            int64  \n",
      " 1   type            object \n",
      " 2   amount          float64\n",
      " 3   nameOrig        object \n",
      " 4   oldbalanceOrg   float64\n",
      " 5   newbalanceOrig  float64\n",
      " 6   nameDest        object \n",
      " 7   oldbalanceDest  float64\n",
      " 8   newbalanceDest  float64\n",
      " 9   isFraud         int64  \n",
      " 10  isFlaggedFraud  int64  \n",
      "dtypes: float64(5), int64(3), object(3)\n",
      "memory usage: 534.0+ MB\n"
     ]
    }
   ],
   "source": [
    "df.info()"
   ]
  },
  {
   "cell_type": "markdown",
   "id": "8bf1c107",
   "metadata": {},
   "source": [
    "check the columns to find the fraud feature"
   ]
  },
  {
   "cell_type": "code",
   "execution_count": 7,
   "id": "a9b802a7",
   "metadata": {},
   "outputs": [
    {
     "data": {
      "text/plain": [
       "Index(['step', 'type', 'amount', 'nameOrig', 'oldbalanceOrg', 'newbalanceOrig',\n",
       "       'nameDest', 'oldbalanceDest', 'newbalanceDest', 'isFraud',\n",
       "       'isFlaggedFraud'],\n",
       "      dtype='object')"
      ]
     },
     "execution_count": 7,
     "metadata": {},
     "output_type": "execute_result"
    }
   ],
   "source": [
    "df.columns"
   ]
  },
  {
   "cell_type": "markdown",
   "id": "8cac0c88",
   "metadata": {},
   "source": [
    "count the no of fraud and non fraud transactions"
   ]
  },
  {
   "cell_type": "code",
   "execution_count": 8,
   "id": "5e040b50",
   "metadata": {},
   "outputs": [
    {
     "data": {
      "text/plain": [
       "isFraud\n",
       "0    6354407\n",
       "1       8213\n",
       "Name: count, dtype: int64"
      ]
     },
     "execution_count": 8,
     "metadata": {},
     "output_type": "execute_result"
    }
   ],
   "source": [
    "# df.isFraud.count()\n",
    "df['isFraud'].value_counts()"
   ]
  },
  {
   "cell_type": "code",
   "execution_count": 9,
   "id": "91db7745-43fe-4cb2-a244-b5640f2ef52f",
   "metadata": {},
   "outputs": [
    {
     "data": {
      "text/plain": [
       "isFraud\n",
       "0    0.998709\n",
       "1    0.001291\n",
       "Name: proportion, dtype: float64"
      ]
     },
     "execution_count": 9,
     "metadata": {},
     "output_type": "execute_result"
    }
   ],
   "source": [
    "# df.isFraud.count() in terms of percentage\n",
    "\n",
    "df['isFraud'].value_counts(normalize=True)\n",
    "# this indiccates class imbalance in data set (with 99 % non faud and 1% fraud data. So accuracy is not high in predicted model)\n"
   ]
  },
  {
   "cell_type": "markdown",
   "id": "7005a7f3-73ef-41b1-b057-df308a48bc8b",
   "metadata": {},
   "source": [
    "The above results show that the data set is highly imbalance with 99.87% non fraud data (class 0) and 1.2% fraudulent data (class 1). this affects the accuracy in the predicted model . So we need to balance the data set"
   ]
  },
  {
   "cell_type": "code",
   "execution_count": 10,
   "id": "49923ae9",
   "metadata": {},
   "outputs": [
    {
     "data": {
      "text/plain": [
       "isFlaggedFraud\n",
       "0    6362604\n",
       "1         16\n",
       "Name: count, dtype: int64"
      ]
     },
     "execution_count": 10,
     "metadata": {},
     "output_type": "execute_result"
    }
   ],
   "source": [
    "df['isFlaggedFraud'].value_counts()"
   ]
  },
  {
   "cell_type": "markdown",
   "id": "841fe579",
   "metadata": {},
   "source": []
  },
  {
   "cell_type": "markdown",
   "id": "e27fe92d",
   "metadata": {},
   "source": [
    "Check for NA vales"
   ]
  },
  {
   "cell_type": "code",
   "execution_count": 11,
   "id": "7a19367f",
   "metadata": {},
   "outputs": [
    {
     "data": {
      "text/plain": [
       "step              0\n",
       "type              0\n",
       "amount            0\n",
       "nameOrig          0\n",
       "oldbalanceOrg     0\n",
       "newbalanceOrig    0\n",
       "nameDest          0\n",
       "oldbalanceDest    0\n",
       "newbalanceDest    0\n",
       "isFraud           0\n",
       "isFlaggedFraud    0\n",
       "dtype: int64"
      ]
     },
     "execution_count": 11,
     "metadata": {},
     "output_type": "execute_result"
    }
   ],
   "source": [
    "df.isnull().sum()"
   ]
  },
  {
   "cell_type": "code",
   "execution_count": 12,
   "id": "de89b82b",
   "metadata": {},
   "outputs": [
    {
     "data": {
      "text/plain": [
       "(6362620, 11)"
      ]
     },
     "execution_count": 12,
     "metadata": {},
     "output_type": "execute_result"
    }
   ],
   "source": [
    "# df shape\n",
    "df.shape"
   ]
  },
  {
   "cell_type": "code",
   "execution_count": 13,
   "id": "d7488be1",
   "metadata": {},
   "outputs": [
    {
     "data": {
      "text/plain": [
       "0.13"
      ]
     },
     "execution_count": 13,
     "metadata": {},
     "output_type": "execute_result"
    }
   ],
   "source": [
    "# df fraud %\n",
    "round((df['isFraud'].value_counts()[1] / df.shape[0]) * 100,2)"
   ]
  },
  {
   "cell_type": "code",
   "execution_count": 14,
   "id": "63f4d553-93e2-405f-81f7-e9b419bdb0e6",
   "metadata": {},
   "outputs": [
    {
     "data": {
      "image/png": "[encoded data removed]",
      "text/plain": [
       "<Figure size 600x800 with 1 Axes>"
      ]
     },
     "metadata": {},
     "output_type": "display_data"
    }
   ],
   "source": [
    "# in the feature 'type', gives the type of transaction made. So let us make a pie plot to find the most 'popular tyoe'\n",
    "plt.figure(figsize=(6,8))\n",
    "plt.pie(df['type'].value_counts(),\n",
    "       labels=df['type'].value_counts().index,\n",
    "       autopct='%1.1f%%');"
   ]
  },
  {
   "cell_type": "markdown",
   "id": "815de0f5",
   "metadata": {},
   "source": [
    "bar chart of each transaction type"
   ]
  },
  {
   "cell_type": "code",
   "execution_count": 15,
   "id": "1b3bc489",
   "metadata": {},
   "outputs": [
    {
     "data": {
      "text/plain": [
       "(array([0, 1, 2, 3, 4]),\n",
       " [Text(0, 0, 'CASH_OUT'),\n",
       "  Text(1, 0, 'PAYMENT'),\n",
       "  Text(2, 0, 'CASH_IN'),\n",
       "  Text(3, 0, 'TRANSFER'),\n",
       "  Text(4, 0, 'DEBIT')])"
      ]
     },
     "execution_count": 15,
     "metadata": {},
     "output_type": "execute_result"
    },
    {
     "data": {
      "image/png": "[encoded data removed]",
      "text/plain": [
       "<Figure size 1200x600 with 1 Axes>"
      ]
     },
     "metadata": {},
     "output_type": "display_data"
    }
   ],
   "source": [
    "df['type'].value_counts().plot(kind='bar', figsize=(12, 6), color='skyblue')\n",
    "plt.title('Transaction Type Distribution')\n",
    "plt.xlabel('Transaction Type')\n",
    "plt.ylabel('Count')\n",
    "plt.xticks(rotation=45)     "
   ]
  },
  {
   "cell_type": "markdown",
   "id": "5e79c9fa",
   "metadata": {},
   "source": [
    "group fraud rate by each transaction type"
   ]
  },
  {
   "cell_type": "code",
   "execution_count": 16,
   "id": "0d178e1b",
   "metadata": {},
   "outputs": [
    {
     "data": {
      "image/png": "[encoded data removed]",
      "text/plain": [
       "<Figure size 1200x600 with 1 Axes>"
      ]
     },
     "metadata": {},
     "output_type": "display_data"
    }
   ],
   "source": [
    "fraud_rate_by_type = df.groupby('type')['isFraud'].mean().reset_index()\n",
    "fraud_rate_by_type = fraud_rate_by_type.sort_values(by='isFraud', ascending=False)\n",
    "plt.figure(figsize=(12, 6))\n",
    "sns.barplot(x='type', y='isFraud', data=fraud_rate_by_type, palette='viridis')\n",
    "plt.title('Fraud Rate by Transaction Type')\n",
    "plt.xlabel('Transaction Type')\n",
    "plt.ylabel('Fraud Rate')\n",
    "plt.xticks(rotation=45)\n",
    "plt.show()\n"
   ]
  },
  {
   "cell_type": "code",
   "execution_count": 17,
   "id": "b824c9e2",
   "metadata": {},
   "outputs": [
    {
     "data": {
      "text/html": [
       "<div>\n",
       "<style scoped>\n",
       "    .dataframe tbody tr th:only-of-type {\n",
       "        vertical-align: middle;\n",
       "    }\n",
       "\n",
       "    .dataframe tbody tr th {\n",
       "        vertical-align: top;\n",
       "    }\n",
       "\n",
       "    .dataframe thead th {\n",
       "        text-align: right;\n",
       "    }\n",
       "</style>\n",
       "<table border=\"1\" class=\"dataframe\">\n",
       "  <thead>\n",
       "    <tr style=\"text-align: right;\">\n",
       "      <th></th>\n",
       "      <th>type</th>\n",
       "      <th>isFraud</th>\n",
       "    </tr>\n",
       "  </thead>\n",
       "  <tbody>\n",
       "    <tr>\n",
       "      <th>4</th>\n",
       "      <td>TRANSFER</td>\n",
       "      <td>0.007688</td>\n",
       "    </tr>\n",
       "    <tr>\n",
       "      <th>1</th>\n",
       "      <td>CASH_OUT</td>\n",
       "      <td>0.001840</td>\n",
       "    </tr>\n",
       "    <tr>\n",
       "      <th>0</th>\n",
       "      <td>CASH_IN</td>\n",
       "      <td>0.000000</td>\n",
       "    </tr>\n",
       "    <tr>\n",
       "      <th>2</th>\n",
       "      <td>DEBIT</td>\n",
       "      <td>0.000000</td>\n",
       "    </tr>\n",
       "    <tr>\n",
       "      <th>3</th>\n",
       "      <td>PAYMENT</td>\n",
       "      <td>0.000000</td>\n",
       "    </tr>\n",
       "  </tbody>\n",
       "</table>\n",
       "</div>"
      ],
      "text/plain": [
       "       type   isFraud\n",
       "4  TRANSFER  0.007688\n",
       "1  CASH_OUT  0.001840\n",
       "0   CASH_IN  0.000000\n",
       "2     DEBIT  0.000000\n",
       "3   PAYMENT  0.000000"
      ]
     },
     "execution_count": 17,
     "metadata": {},
     "output_type": "execute_result"
    }
   ],
   "source": [
    "fraud_rate_by_type"
   ]
  },
  {
   "cell_type": "code",
   "execution_count": 18,
   "id": "81f10811",
   "metadata": {},
   "outputs": [
    {
     "data": {
      "text/plain": [
       "count     6362620\n",
       "mean       179861\n",
       "std        603858\n",
       "min             0\n",
       "25%         13389\n",
       "50%         74871\n",
       "75%        208721\n",
       "max      92445516\n",
       "Name: amount, dtype: int32"
      ]
     },
     "execution_count": 18,
     "metadata": {},
     "output_type": "execute_result"
    }
   ],
   "source": [
    "# statistcs\n",
    "df['amount'].describe().astype(int)"
   ]
  },
  {
   "cell_type": "markdown",
   "id": "2fc66973-0858-4346-bb4d-9da21adbb693",
   "metadata": {},
   "source": [
    "Ploting the numerical features (amount,oldbalanceOrg, newbalanceOrig, oldbalanceDest, newbalanceDest) for distribution check using histplot\n"
   ]
  },
  {
   "cell_type": "code",
   "execution_count": 19,
   "id": "4749ca4d-195e-4a7c-9b76-9eca471c1ae5",
   "metadata": {},
   "outputs": [
    {
     "ename": "KeyboardInterrupt",
     "evalue": "",
     "output_type": "error",
     "traceback": [
      "\u001b[1;31m---------------------------------------------------------------------------\u001b[0m",
      "\u001b[1;31mKeyboardInterrupt\u001b[0m                         Traceback (most recent call last)",
      "Cell \u001b[1;32mIn[19], line 10\u001b[0m\n\u001b[0;32m      7\u001b[0m plt\u001b[38;5;241m.\u001b[39msubplot(\u001b[38;5;241m3\u001b[39m, \u001b[38;5;241m2\u001b[39m, i)\n\u001b[0;32m      8\u001b[0m \u001b[38;5;66;03m# sns.histplot(np.log1p(df['amount']), bins=100, kde=True, color='green')\u001b[39;00m\n\u001b[0;32m      9\u001b[0m \u001b[38;5;66;03m# sns.histplot(df[col], bins=100, kde=True)\u001b[39;00m\n\u001b[1;32m---> 10\u001b[0m \u001b[43msns\u001b[49m\u001b[38;5;241;43m.\u001b[39;49m\u001b[43mhistplot\u001b[49m\u001b[43m(\u001b[49m\u001b[43mnp\u001b[49m\u001b[38;5;241;43m.\u001b[39;49m\u001b[43mlog1p\u001b[49m\u001b[43m(\u001b[49m\u001b[43mdf\u001b[49m\u001b[43m[\u001b[49m\u001b[43mcol\u001b[49m\u001b[43m]\u001b[49m\u001b[43m)\u001b[49m\u001b[43m,\u001b[49m\u001b[43m \u001b[49m\u001b[43mbins\u001b[49m\u001b[38;5;241;43m=\u001b[39;49m\u001b[38;5;241;43m100\u001b[39;49m\u001b[43m,\u001b[49m\u001b[43m \u001b[49m\u001b[43mkde\u001b[49m\u001b[38;5;241;43m=\u001b[39;49m\u001b[38;5;28;43;01mTrue\u001b[39;49;00m\u001b[43m,\u001b[49m\u001b[43m \u001b[49m\u001b[43mcolor\u001b[49m\u001b[38;5;241;43m=\u001b[39;49m\u001b[38;5;124;43m'\u001b[39;49m\u001b[38;5;124;43mblue\u001b[39;49m\u001b[38;5;124;43m'\u001b[39;49m\u001b[43m)\u001b[49m\n\u001b[0;32m     11\u001b[0m plt\u001b[38;5;241m.\u001b[39mtitle(\u001b[38;5;124mf\u001b[39m\u001b[38;5;124m'\u001b[39m\u001b[38;5;124mDistribution of \u001b[39m\u001b[38;5;132;01m{\u001b[39;00mcol\u001b[38;5;132;01m}\u001b[39;00m\u001b[38;5;124m'\u001b[39m)\n\u001b[0;32m     12\u001b[0m plt\u001b[38;5;241m.\u001b[39mxlabel(col)\n",
      "File \u001b[1;32m~\\anaconda3\\envs\\env_fraud\\lib\\site-packages\\seaborn\\distributions.py:1379\u001b[0m, in \u001b[0;36mhistplot\u001b[1;34m(data, x, y, hue, weights, stat, bins, binwidth, binrange, discrete, cumulative, common_bins, common_norm, multiple, element, fill, shrink, kde, kde_kws, line_kws, thresh, pthresh, pmax, cbar, cbar_ax, cbar_kws, palette, hue_order, hue_norm, color, log_scale, legend, ax, **kwargs)\u001b[0m\n\u001b[0;32m   1358\u001b[0m \u001b[38;5;28;01mdef\u001b[39;00m\u001b[38;5;250m \u001b[39m\u001b[38;5;21mhistplot\u001b[39m(\n\u001b[0;32m   1359\u001b[0m     data\u001b[38;5;241m=\u001b[39m\u001b[38;5;28;01mNone\u001b[39;00m, \u001b[38;5;241m*\u001b[39m,\n\u001b[0;32m   1360\u001b[0m     \u001b[38;5;66;03m# Vector variables\u001b[39;00m\n\u001b[1;32m   (...)\u001b[0m\n\u001b[0;32m   1376\u001b[0m     \u001b[38;5;241m*\u001b[39m\u001b[38;5;241m*\u001b[39mkwargs,\n\u001b[0;32m   1377\u001b[0m ):\n\u001b[1;32m-> 1379\u001b[0m     p \u001b[38;5;241m=\u001b[39m \u001b[43m_DistributionPlotter\u001b[49m\u001b[43m(\u001b[49m\n\u001b[0;32m   1380\u001b[0m \u001b[43m        \u001b[49m\u001b[43mdata\u001b[49m\u001b[38;5;241;43m=\u001b[39;49m\u001b[43mdata\u001b[49m\u001b[43m,\u001b[49m\n\u001b[0;32m   1381\u001b[0m \u001b[43m        \u001b[49m\u001b[43mvariables\u001b[49m\u001b[38;5;241;43m=\u001b[39;49m\u001b[38;5;28;43mdict\u001b[39;49m\u001b[43m(\u001b[49m\u001b[43mx\u001b[49m\u001b[38;5;241;43m=\u001b[39;49m\u001b[43mx\u001b[49m\u001b[43m,\u001b[49m\u001b[43m \u001b[49m\u001b[43my\u001b[49m\u001b[38;5;241;43m=\u001b[39;49m\u001b[43my\u001b[49m\u001b[43m,\u001b[49m\u001b[43m \u001b[49m\u001b[43mhue\u001b[49m\u001b[38;5;241;43m=\u001b[39;49m\u001b[43mhue\u001b[49m\u001b[43m,\u001b[49m\u001b[43m \u001b[49m\u001b[43mweights\u001b[49m\u001b[38;5;241;43m=\u001b[39;49m\u001b[43mweights\u001b[49m\u001b[43m)\u001b[49m\u001b[43m,\u001b[49m\n\u001b[0;32m   1382\u001b[0m \u001b[43m    \u001b[49m\u001b[43m)\u001b[49m\n\u001b[0;32m   1384\u001b[0m     p\u001b[38;5;241m.\u001b[39mmap_hue(palette\u001b[38;5;241m=\u001b[39mpalette, order\u001b[38;5;241m=\u001b[39mhue_order, norm\u001b[38;5;241m=\u001b[39mhue_norm)\n\u001b[0;32m   1386\u001b[0m     \u001b[38;5;28;01mif\u001b[39;00m ax \u001b[38;5;129;01mis\u001b[39;00m \u001b[38;5;28;01mNone\u001b[39;00m:\n",
      "File \u001b[1;32m~\\anaconda3\\envs\\env_fraud\\lib\\site-packages\\seaborn\\distributions.py:110\u001b[0m, in \u001b[0;36m_DistributionPlotter.__init__\u001b[1;34m(self, data, variables)\u001b[0m\n\u001b[0;32m    104\u001b[0m \u001b[38;5;28;01mdef\u001b[39;00m\u001b[38;5;250m \u001b[39m\u001b[38;5;21m__init__\u001b[39m(\n\u001b[0;32m    105\u001b[0m     \u001b[38;5;28mself\u001b[39m,\n\u001b[0;32m    106\u001b[0m     data\u001b[38;5;241m=\u001b[39m\u001b[38;5;28;01mNone\u001b[39;00m,\n\u001b[0;32m    107\u001b[0m     variables\u001b[38;5;241m=\u001b[39m{},\n\u001b[0;32m    108\u001b[0m ):\n\u001b[1;32m--> 110\u001b[0m     \u001b[38;5;28;43msuper\u001b[39;49m\u001b[43m(\u001b[49m\u001b[43m)\u001b[49m\u001b[38;5;241;43m.\u001b[39;49m\u001b[38;5;21;43m__init__\u001b[39;49m\u001b[43m(\u001b[49m\u001b[43mdata\u001b[49m\u001b[38;5;241;43m=\u001b[39;49m\u001b[43mdata\u001b[49m\u001b[43m,\u001b[49m\u001b[43m \u001b[49m\u001b[43mvariables\u001b[49m\u001b[38;5;241;43m=\u001b[39;49m\u001b[43mvariables\u001b[49m\u001b[43m)\u001b[49m\n",
      "File \u001b[1;32m~\\anaconda3\\envs\\env_fraud\\lib\\site-packages\\seaborn\\_base.py:634\u001b[0m, in \u001b[0;36mVectorPlotter.__init__\u001b[1;34m(self, data, variables)\u001b[0m\n\u001b[0;32m    629\u001b[0m \u001b[38;5;66;03m# var_ordered is relevant only for categorical axis variables, and may\u001b[39;00m\n\u001b[0;32m    630\u001b[0m \u001b[38;5;66;03m# be better handled by an internal axis information object that tracks\u001b[39;00m\n\u001b[0;32m    631\u001b[0m \u001b[38;5;66;03m# such information and is set up by the scale_* methods. The analogous\u001b[39;00m\n\u001b[0;32m    632\u001b[0m \u001b[38;5;66;03m# information for numeric axes would be information about log scales.\u001b[39;00m\n\u001b[0;32m    633\u001b[0m \u001b[38;5;28mself\u001b[39m\u001b[38;5;241m.\u001b[39m_var_ordered \u001b[38;5;241m=\u001b[39m {\u001b[38;5;124m\"\u001b[39m\u001b[38;5;124mx\u001b[39m\u001b[38;5;124m\"\u001b[39m: \u001b[38;5;28;01mFalse\u001b[39;00m, \u001b[38;5;124m\"\u001b[39m\u001b[38;5;124my\u001b[39m\u001b[38;5;124m\"\u001b[39m: \u001b[38;5;28;01mFalse\u001b[39;00m}  \u001b[38;5;66;03m# alt., used DefaultDict\u001b[39;00m\n\u001b[1;32m--> 634\u001b[0m \u001b[38;5;28;43mself\u001b[39;49m\u001b[38;5;241;43m.\u001b[39;49m\u001b[43massign_variables\u001b[49m\u001b[43m(\u001b[49m\u001b[43mdata\u001b[49m\u001b[43m,\u001b[49m\u001b[43m \u001b[49m\u001b[43mvariables\u001b[49m\u001b[43m)\u001b[49m\n\u001b[0;32m    636\u001b[0m \u001b[38;5;66;03m# TODO Lots of tests assume that these are called to initialize the\u001b[39;00m\n\u001b[0;32m    637\u001b[0m \u001b[38;5;66;03m# mappings to default values on class initialization. I'd prefer to\u001b[39;00m\n\u001b[0;32m    638\u001b[0m \u001b[38;5;66;03m# move away from that and only have a mapping when explicitly called.\u001b[39;00m\n\u001b[0;32m    639\u001b[0m \u001b[38;5;28;01mfor\u001b[39;00m var \u001b[38;5;129;01min\u001b[39;00m [\u001b[38;5;124m\"\u001b[39m\u001b[38;5;124mhue\u001b[39m\u001b[38;5;124m\"\u001b[39m, \u001b[38;5;124m\"\u001b[39m\u001b[38;5;124msize\u001b[39m\u001b[38;5;124m\"\u001b[39m, \u001b[38;5;124m\"\u001b[39m\u001b[38;5;124mstyle\u001b[39m\u001b[38;5;124m\"\u001b[39m]:\n",
      "File \u001b[1;32m~\\anaconda3\\envs\\env_fraud\\lib\\site-packages\\seaborn\\_base.py:673\u001b[0m, in \u001b[0;36mVectorPlotter.assign_variables\u001b[1;34m(self, data, variables)\u001b[0m\n\u001b[0;32m    671\u001b[0m \u001b[38;5;28;01mif\u001b[39;00m x \u001b[38;5;129;01mis\u001b[39;00m \u001b[38;5;28;01mNone\u001b[39;00m \u001b[38;5;129;01mand\u001b[39;00m y \u001b[38;5;129;01mis\u001b[39;00m \u001b[38;5;28;01mNone\u001b[39;00m:\n\u001b[0;32m    672\u001b[0m     \u001b[38;5;28mself\u001b[39m\u001b[38;5;241m.\u001b[39minput_format \u001b[38;5;241m=\u001b[39m \u001b[38;5;124m\"\u001b[39m\u001b[38;5;124mwide\u001b[39m\u001b[38;5;124m\"\u001b[39m\n\u001b[1;32m--> 673\u001b[0m     frame, names \u001b[38;5;241m=\u001b[39m \u001b[38;5;28mself\u001b[39m\u001b[38;5;241m.\u001b[39m_assign_variables_wideform(data, \u001b[38;5;241m*\u001b[39m\u001b[38;5;241m*\u001b[39mvariables)\n\u001b[0;32m    674\u001b[0m \u001b[38;5;28;01melse\u001b[39;00m:\n\u001b[0;32m    675\u001b[0m     \u001b[38;5;66;03m# When dealing with long-form input, use the newer PlotData\u001b[39;00m\n\u001b[0;32m    676\u001b[0m     \u001b[38;5;66;03m# object (internal but introduced for the objects interface)\u001b[39;00m\n\u001b[0;32m    677\u001b[0m     \u001b[38;5;66;03m# to centralize / standardize data consumption logic.\u001b[39;00m\n\u001b[0;32m    678\u001b[0m     \u001b[38;5;28mself\u001b[39m\u001b[38;5;241m.\u001b[39minput_format \u001b[38;5;241m=\u001b[39m \u001b[38;5;124m\"\u001b[39m\u001b[38;5;124mlong\u001b[39m\u001b[38;5;124m\"\u001b[39m\n",
      "File \u001b[1;32m~\\anaconda3\\envs\\env_fraud\\lib\\site-packages\\seaborn\\_base.py:733\u001b[0m, in \u001b[0;36mVectorPlotter._assign_variables_wideform\u001b[1;34m(self, data, **kwargs)\u001b[0m\n\u001b[0;32m    731\u001b[0m \u001b[38;5;28;01melse\u001b[39;00m:\n\u001b[0;32m    732\u001b[0m     values \u001b[38;5;241m=\u001b[39m np\u001b[38;5;241m.\u001b[39matleast_1d(np\u001b[38;5;241m.\u001b[39masarray(data, dtype\u001b[38;5;241m=\u001b[39m\u001b[38;5;28mobject\u001b[39m))\n\u001b[1;32m--> 733\u001b[0m flat \u001b[38;5;241m=\u001b[39m \u001b[38;5;129;01mnot\u001b[39;00m \u001b[38;5;28;43many\u001b[39;49m\u001b[43m(\u001b[49m\n\u001b[0;32m    734\u001b[0m \u001b[43m    \u001b[49m\u001b[38;5;28;43misinstance\u001b[39;49m\u001b[43m(\u001b[49m\u001b[43mv\u001b[49m\u001b[43m,\u001b[49m\u001b[43m \u001b[49m\u001b[43mIterable\u001b[49m\u001b[43m)\u001b[49m\u001b[43m \u001b[49m\u001b[38;5;129;43;01mand\u001b[39;49;00m\u001b[43m \u001b[49m\u001b[38;5;129;43;01mnot\u001b[39;49;00m\u001b[43m \u001b[49m\u001b[38;5;28;43misinstance\u001b[39;49m\u001b[43m(\u001b[49m\u001b[43mv\u001b[49m\u001b[43m,\u001b[49m\u001b[43m \u001b[49m\u001b[43m(\u001b[49m\u001b[38;5;28;43mstr\u001b[39;49m\u001b[43m,\u001b[49m\u001b[43m \u001b[49m\u001b[38;5;28;43mbytes\u001b[39;49m\u001b[43m)\u001b[49m\u001b[43m)\u001b[49m\n\u001b[0;32m    735\u001b[0m \u001b[43m    \u001b[49m\u001b[38;5;28;43;01mfor\u001b[39;49;00m\u001b[43m \u001b[49m\u001b[43mv\u001b[49m\u001b[43m \u001b[49m\u001b[38;5;129;43;01min\u001b[39;49;00m\u001b[43m \u001b[49m\u001b[43mvalues\u001b[49m\n\u001b[0;32m    736\u001b[0m \u001b[43m\u001b[49m\u001b[43m)\u001b[49m\n\u001b[0;32m    738\u001b[0m \u001b[38;5;28;01mif\u001b[39;00m empty:\n\u001b[0;32m    739\u001b[0m \n\u001b[0;32m    740\u001b[0m     \u001b[38;5;66;03m# Make an object with the structure of plot_data, but empty\u001b[39;00m\n\u001b[0;32m    741\u001b[0m     plot_data \u001b[38;5;241m=\u001b[39m pd\u001b[38;5;241m.\u001b[39mDataFrame()\n",
      "File \u001b[1;32m~\\anaconda3\\envs\\env_fraud\\lib\\site-packages\\seaborn\\_base.py:733\u001b[0m, in \u001b[0;36m<genexpr>\u001b[1;34m(.0)\u001b[0m\n\u001b[0;32m    731\u001b[0m \u001b[38;5;28;01melse\u001b[39;00m:\n\u001b[0;32m    732\u001b[0m     values \u001b[38;5;241m=\u001b[39m np\u001b[38;5;241m.\u001b[39matleast_1d(np\u001b[38;5;241m.\u001b[39masarray(data, dtype\u001b[38;5;241m=\u001b[39m\u001b[38;5;28mobject\u001b[39m))\n\u001b[1;32m--> 733\u001b[0m flat \u001b[38;5;241m=\u001b[39m \u001b[38;5;129;01mnot\u001b[39;00m \u001b[38;5;28many\u001b[39m(\n\u001b[0;32m    734\u001b[0m     \u001b[38;5;28misinstance\u001b[39m(v, Iterable) \u001b[38;5;129;01mand\u001b[39;00m \u001b[38;5;129;01mnot\u001b[39;00m \u001b[38;5;28misinstance\u001b[39m(v, (\u001b[38;5;28mstr\u001b[39m, \u001b[38;5;28mbytes\u001b[39m))\n\u001b[0;32m    735\u001b[0m     \u001b[38;5;28;01mfor\u001b[39;00m v \u001b[38;5;129;01min\u001b[39;00m values\n\u001b[0;32m    736\u001b[0m )\n\u001b[0;32m    738\u001b[0m \u001b[38;5;28;01mif\u001b[39;00m empty:\n\u001b[0;32m    739\u001b[0m \n\u001b[0;32m    740\u001b[0m     \u001b[38;5;66;03m# Make an object with the structure of plot_data, but empty\u001b[39;00m\n\u001b[0;32m    741\u001b[0m     plot_data \u001b[38;5;241m=\u001b[39m pd\u001b[38;5;241m.\u001b[39mDataFrame()\n",
      "\u001b[1;31mKeyboardInterrupt\u001b[0m: "
     ]
    },
    {
     "data": {
      "image/png": "[encoded data removed]",
      "text/plain": [
       "<Figure size 1600x1200 with 2 Axes>"
      ]
     },
     "metadata": {},
     "output_type": "display_data"
    }
   ],
   "source": [
    "# Numerical features of interest\n",
    "numerical_cols = ['amount', 'oldbalanceOrg', 'newbalanceOrig', 'oldbalanceDest', 'newbalanceDest']\n",
    "\n",
    "# Plot distribution for each feature\n",
    "plt.figure(figsize=(16, 12))\n",
    "for i, col in enumerate(numerical_cols, 1):\n",
    "    plt.subplot(3, 2, i)\n",
    "    # sns.histplot(np.log1p(df['amount']), bins=100, kde=True, color='green')\n",
    "    # sns.histplot(df[col], bins=100, kde=True)\n",
    "    sns.histplot(np.log1p(df[col]), bins=100, kde=True, color='blue')\n",
    "    plt.title(f'Distribution of {col}')\n",
    "    plt.xlabel(col)\n",
    "    plt.ylabel('Frequency')\n",
    "    plt.tight_layout()\n",
    "\n",
    "plt.show()"
   ]
  },
  {
   "cell_type": "code",
   "execution_count": null,
   "id": "035a2989",
   "metadata": {},
   "outputs": [],
   "source": [
    "sns.histplot(df['amount'], bins=100, kde=True, color='green')\n",
    "plt.title('Distribution of Transaction Amounts')\n",
    "plt.xlabel('Amount')\n",
    "plt.ylabel('Frequency')\n",
    "plt.show()"
   ]
  },
  {
   "cell_type": "markdown",
   "id": "ceb1a4c7",
   "metadata": {},
   "source": [
    "Draw the same histogram plot in log scale"
   ]
  },
  {
   "cell_type": "code",
   "execution_count": null,
   "id": "3e5a8dba",
   "metadata": {},
   "outputs": [],
   "source": [
    "sns.histplot(np.log1p(df['amount']), bins=100, kde=True, color='green')\n",
    "plt.title('Distribution of Transaction Amounts (Log Scale)')\n",
    "plt.xlabel('Log(Amount + 1)')\n",
    "plt.ylabel('Frequency')\n",
    "plt.show()"
   ]
  },
  {
   "cell_type": "markdown",
   "id": "eca47174-c433-4977-b991-00a3e5ba02c7",
   "metadata": {},
   "source": [
    "# correlation plot that gives the corelation between multiple features including target  (use heatmap)\n",
    "Since there are no missing values in any of the features, and only the numerical features are meaningful for a correlation matrix, we can proceed by excluding the categorical and string columns (type, nameOrig, nameDest) and plotting the correlation matrix for the remaining numerical ones."
   ]
  },
  {
   "cell_type": "code",
   "execution_count": null,
   "id": "94c62d76-c9a0-40a0-a45e-0e5e9a1da9e2",
   "metadata": {},
   "outputs": [],
   "source": [
    "# Drop non-numeric columns for correlation\n",
    "df_numeric = df.drop(columns=['type', 'nameOrig', 'nameDest'])\n",
    "\n",
    "# Compute correlation matrix\n",
    "corr_matrix = df_numeric.corr()\n",
    "\n",
    "# Plot heatmap (correlation can take values between -1 and 1)\n",
    "# 1 - highly positive corre; -1 - highly neg corr; 0- no correlation\n",
    "plt.figure(figsize=(10, 8))\n",
    "sns.heatmap(corr_matrix, annot=True, cmap='coolwarm', fmt='.2f', square=True)\n",
    "plt.title(\"Correlation Matrix (Numerical Features Only)\")\n",
    "plt.show()"
   ]
  },
  {
   "cell_type": "markdown",
   "id": "7aff876b",
   "metadata": {},
   "source": [
    "Relationship between fraud and amount using box plot"
   ]
  },
  {
   "cell_type": "code",
   "execution_count": null,
   "id": "2a8d150a",
   "metadata": {},
   "outputs": [],
   "source": [
    "plt.figure(figsize=(12, 6))\n",
    "sns.boxplot(x='isFraud', y='amount', data=df, showfliers=False)\n",
    "plt.title('Transaction Amounts by Fraud Status')\n",
    "plt.xlabel('Is Fraud')\n",
    "plt.ylabel('Transaction Amount')\n",
    "plt.xticks([0, 1], ['Non-Fraud', 'Fraud'])\n",
    "plt.show()"
   ]
  },
  {
   "cell_type": "code",
   "execution_count": null,
   "id": "8bc08d29",
   "metadata": {},
   "outputs": [],
   "source": [
    "plt.figure(figsize=(12, 6))\n",
    "sns.boxplot(x='isFraud', y='amount', data=df[df['amount'] < 50000], showfliers=False)\n",
    "plt.title('Transaction Amounts by Fraud Status (Amount < 50k)')\n",
    "plt.xlabel('Is Fraud')\n",
    "plt.ylabel('Transaction Amount')\n",
    "plt.xticks([0, 1], ['Non-Fraud', 'Fraud'])\n",
    "plt.show()"
   ]
  },
  {
   "cell_type": "markdown",
   "id": "24a058f7",
   "metadata": {},
   "source": [
    "The box plot comparing transaction amounts by fraud status \n",
    "shows that fraudulent transactions generally involve higher amounts\n",
    "than non-fraudulent ones. The median transaction amount for fraud cases \n",
    "is significantly greater, and the interquartile range is wider, indicating\n",
    "more variability. This suggests that fraudsters tend to target larger\n",
    "transactions. Additionally, after filtering for amounts less than 50,000,\n",
    " the difference remains noticeable, confirming that even among smaller \n",
    "transactions, frauds are associated with higher amounts compared to \n",
    "non-fraudulent transactions."
   ]
  },
  {
   "cell_type": "markdown",
   "id": "2045139f",
   "metadata": {},
   "source": [
    "Balance change and anamolies"
   ]
  },
  {
   "cell_type": "code",
   "execution_count": null,
   "id": "09c53480",
   "metadata": {},
   "outputs": [],
   "source": [
    "df.columns\n"
   ]
  },
  {
   "cell_type": "code",
   "execution_count": null,
   "id": "cba46646",
   "metadata": {},
   "outputs": [],
   "source": [
    "df['balance_diffOrg'] = df['oldbalanceOrg'] - df['newbalanceOrig']\n",
    "df[['oldbalanceOrg', 'newbalanceOrig', 'balance_diffOrg']].head()"
   ]
  },
  {
   "cell_type": "markdown",
   "id": "d6487bec",
   "metadata": {},
   "source": [
    "balance diffrence of the destination"
   ]
  },
  {
   "cell_type": "code",
   "execution_count": null,
   "id": "3128abcb",
   "metadata": {},
   "outputs": [],
   "source": [
    "df['balance_diffDest'] = df['oldbalanceDest'] - df['newbalanceDest']\n",
    "df[['oldbalanceDest', 'newbalanceDest', 'balance_diffDest']].head()"
   ]
  },
  {
   "cell_type": "code",
   "execution_count": null,
   "id": "df341ae1",
   "metadata": {},
   "outputs": [],
   "source": [
    "# Count negative values for balance_diffOrg and balance_diffDest\n",
    "num_negative_balance_diffOrg = (df['balance_diffOrg'] < 0).sum()\n",
    "num_negative_balance_diffDest = (df['balance_diffDest'] < 0).sum()\n",
    "\n",
    "print(f\"Negative balance_diffOrg: {num_negative_balance_diffOrg}\")\n",
    "print(f\"Negative balance_diffDest: {num_negative_balance_diffDest}\")"
   ]
  },
  {
   "cell_type": "code",
   "execution_count": null,
   "id": "06052a83",
   "metadata": {},
   "outputs": [],
   "source": [
    "fraud_per_step = df[df['isFraud'] == 1].groupby('step')['isFraud'].count()\n",
    "plt.figure(figsize=(14, 6))\n",
    "fraud_per_step.plot()\n",
    "plt.title('Number of Fraudulent Transactions per Step')\n",
    "plt.xlabel('Step')\n",
    "plt.ylabel('Fraud Count')\n",
    "plt.grid(True)\n",
    "plt.show()"
   ]
  },
  {
   "cell_type": "markdown",
   "id": "856cab67",
   "metadata": {},
   "source": [
    "drop the coloumn 'step' from the original df"
   ]
  },
  {
   "cell_type": "code",
   "execution_count": null,
   "id": "0b334fa6",
   "metadata": {},
   "outputs": [],
   "source": [
    "# df.drop(columns=['step'], inplace=True)"
   ]
  },
  {
   "cell_type": "markdown",
   "id": "a98124e0",
   "metadata": {},
   "source": [
    "Step 2: Data Preprocessing/ Data Preparation:\n",
    "- Time series\n",
    "- Missing value imputation\n",
    "- Normalization\n",
    "- Imbalanced Data Processing\n",
    "- Sampling\n",
    "- Testing / Validation split\n",
    "- Filtering\n",
    "- Feature selection\n",
    "- Date/time Algebra\n"
   ]
  },
  {
   "cell_type": "code",
   "execution_count": null,
   "id": "92d028c9-d568-4553-87e9-cb5cf4a89cfe",
   "metadata": {},
   "outputs": [],
   "source": [
    "# lets identify the customers who are top senders and top receivers\n",
    "topsenders = df['nameOrig'].value_counts().head(10)\n",
    "topsenders"
   ]
  },
  {
   "cell_type": "code",
   "execution_count": null,
   "id": "984402ed-4152-4617-b534-81e0e2a45e32",
   "metadata": {},
   "outputs": [],
   "source": [
    "topreceivers = df['nameDest'].value_counts().head(10)\n",
    "topreceivers"
   ]
  },
  {
   "cell_type": "code",
   "execution_count": null,
   "id": "01980d94-7e0e-4a76-a021-fb4c1458ebf5",
   "metadata": {},
   "outputs": [],
   "source": [
    "# Fraud making customers\n",
    "fraud_users = df[df['isFraud']==1]['nameOrig'].value_counts().head(10)\n",
    "fraud_users "
   ]
  },
  {
   "cell_type": "code",
   "execution_count": null,
   "id": "237f0a23-0549-4346-9930-aab6e3952385",
   "metadata": {},
   "outputs": [],
   "source": [
    "# it si already observed that fraud rate is high mainly duirng 'transfer ' and 'cash_out' type transactions \n",
    "fraud_types = df[df['type'].isin(['TRANSFER','CASH_OUT'])]\n",
    "fraud_types"
   ]
  },
  {
   "cell_type": "code",
   "execution_count": null,
   "id": "f9eae040-017f-43b8-8d3c-e87d4ebc6ff2",
   "metadata": {},
   "outputs": [],
   "source": [
    "fraud_types['type'].value_counts()"
   ]
  },
  {
   "cell_type": "code",
   "execution_count": null,
   "id": "6f7fa977-3da9-460b-855f-a8cc69386a5e",
   "metadata": {},
   "outputs": [],
   "source": [
    "sns.countplot(data=fraud_types,x= 'type', hue='isFraud')\n",
    "plt.title('Fraud distribution during TRANSFER and CASH_OUT')\n",
    "plt.show()\n",
    "# orange portion is not visible in graph"
   ]
  },
  {
   "cell_type": "code",
   "execution_count": null,
   "id": "5df42fc7-8907-40d4-b845-98d8ea01855d",
   "metadata": {},
   "outputs": [],
   "source": [
    "# let us find the names and other details of customers(senders) whose balance went zero during fraudulent transaction('cash_out' and 'transfer')\n",
    "# create a df using three filters\n",
    "zero_after_trans = df[\n",
    "    (df['oldbalanceOrg']> 0) &\n",
    "    (df['newbalanceOrig'] ==0) &\n",
    "    (df['type'].isin(['TRANSFER','CASH_OUT']))    \n",
    "]\n",
    "zero_after_trans.head()"
   ]
  },
  {
   "cell_type": "code",
   "execution_count": null,
   "id": "628914a1-c29b-445c-94f3-4a8ff8997dd7",
   "metadata": {},
   "outputs": [],
   "source": [
    "len(zero_after_trans)\n",
    "# indicates the no of fraudulent trans"
   ]
  },
  {
   "cell_type": "code",
   "execution_count": null,
   "id": "b1ae4aac-5fe5-4914-843b-ae5e8247878e",
   "metadata": {},
   "outputs": [],
   "source": [
    "# Calculate percentage distribution\n",
    "fraud_distribution = df['isFraud'].value_counts(normalize=True) * 100\n",
    "labels = ['Non-Fraud', 'Fraud']\n",
    "colors = ['skyblue', 'salmon']\n",
    "\n",
    "# Plot pie chart\n",
    "plt.figure(figsize=(4, 6))\n",
    "plt.pie(fraud_distribution, labels=labels, colors=colors, autopct='%1.2f%%', startangle=140)\n",
    "plt.title('Fraud vs Non-Fraud Transactions')\n",
    "plt.axis('equal')  # Equal aspect ratio ensures the pie chart is circular\n",
    "plt.show()"
   ]
  },
  {
   "cell_type": "markdown",
   "id": "84cbf469-b952-442d-9648-c33317e44fba",
   "metadata": {},
   "source": [
    "The above results show that the data set is highly imbalance with 99.87% non fraud data (class 0) and 1.2% fraudulent data (class 1). this affects the accuracy in the predicted model . So we need to balance the data set"
   ]
  },
  {
   "cell_type": "code",
   "execution_count": null,
   "id": "31b2b45a-9864-4e9d-9859-907b72b02df2",
   "metadata": {},
   "outputs": [],
   "source": [
    "# feature selection and preparation to handle class imbalance"
   ]
  },
  {
   "cell_type": "code",
   "execution_count": 40,
   "id": "152c7de9-8f96-4b1f-8126-ef1cd31843d3",
   "metadata": {},
   "outputs": [],
   "source": [
    "# ! pip install scikit-learn"
   ]
  },
  {
   "cell_type": "code",
   "execution_count": 20,
   "id": "5ffbe9ba-f0e7-4483-9e52-efb6bd903fd5",
   "metadata": {},
   "outputs": [],
   "source": [
    "# !pip install xgboost"
   ]
  },
  {
   "cell_type": "markdown",
   "id": "e59c5bb5",
   "metadata": {},
   "source": [
    "Step 3: Model Training for binary classification (fraud and non fraud) prediction\n",
    "- XGBoost\n",
    "- Random forest\n",
    "- K means\n",
    "- SVM\n",
    "- Logistic Regression\n"
   ]
  },
  {
   "cell_type": "code",
   "execution_count": 38,
   "id": "a6f295a4-3a44-4fa9-9e3d-76bf27fb82ec",
   "metadata": {},
   "outputs": [],
   "source": [
    "from sklearn.model_selection import train_test_split\n",
    "from sklearn.preprocessing import StandardScaler\n",
    "\n",
    "# Logistic Regression\n",
    "from sklearn.linear_model import LogisticRegression\n",
    "\n",
    "# Support Vector Machine\n",
    "from sklearn.svm import SVC\n",
    "\n",
    "# Random Forest\n",
    "from sklearn.ensemble import RandomForestClassifier\n",
    "\n",
    "# K-Means Clustering\n",
    "from sklearn.cluster import KMeans\n",
    "\n",
    "# XGBoost Classifier\n",
    "from xgboost import XGBClassifier\n",
    "\n",
    "from sklearn.metrics import classification_report, confusion_matrix\n",
    "from sklearn.pipeline import Pipeline\n",
    "from sklearn.compose import ColumnTransformer\n",
    "from sklearn.preprocessing import OneHotEncoder"
   ]
  },
  {
   "cell_type": "code",
   "execution_count": 22,
   "id": "e35c04a0-ef06-4b18-987c-2b5e681856ee",
   "metadata": {},
   "outputs": [
    {
     "data": {
      "text/html": [
       "<div>\n",
       "<style scoped>\n",
       "    .dataframe tbody tr th:only-of-type {\n",
       "        vertical-align: middle;\n",
       "    }\n",
       "\n",
       "    .dataframe tbody tr th {\n",
       "        vertical-align: top;\n",
       "    }\n",
       "\n",
       "    .dataframe thead th {\n",
       "        text-align: right;\n",
       "    }\n",
       "</style>\n",
       "<table border=\"1\" class=\"dataframe\">\n",
       "  <thead>\n",
       "    <tr style=\"text-align: right;\">\n",
       "      <th></th>\n",
       "      <th>step</th>\n",
       "      <th>type</th>\n",
       "      <th>amount</th>\n",
       "      <th>oldbalanceOrg</th>\n",
       "      <th>newbalanceOrig</th>\n",
       "      <th>oldbalanceDest</th>\n",
       "      <th>newbalanceDest</th>\n",
       "      <th>isFraud</th>\n",
       "    </tr>\n",
       "  </thead>\n",
       "  <tbody>\n",
       "    <tr>\n",
       "      <th>0</th>\n",
       "      <td>1</td>\n",
       "      <td>PAYMENT</td>\n",
       "      <td>9839.64</td>\n",
       "      <td>170136.0</td>\n",
       "      <td>160296.36</td>\n",
       "      <td>0.0</td>\n",
       "      <td>0.0</td>\n",
       "      <td>0</td>\n",
       "    </tr>\n",
       "    <tr>\n",
       "      <th>1</th>\n",
       "      <td>1</td>\n",
       "      <td>PAYMENT</td>\n",
       "      <td>1864.28</td>\n",
       "      <td>21249.0</td>\n",
       "      <td>19384.72</td>\n",
       "      <td>0.0</td>\n",
       "      <td>0.0</td>\n",
       "      <td>0</td>\n",
       "    </tr>\n",
       "    <tr>\n",
       "      <th>2</th>\n",
       "      <td>1</td>\n",
       "      <td>TRANSFER</td>\n",
       "      <td>181.00</td>\n",
       "      <td>181.0</td>\n",
       "      <td>0.00</td>\n",
       "      <td>0.0</td>\n",
       "      <td>0.0</td>\n",
       "      <td>1</td>\n",
       "    </tr>\n",
       "    <tr>\n",
       "      <th>3</th>\n",
       "      <td>1</td>\n",
       "      <td>CASH_OUT</td>\n",
       "      <td>181.00</td>\n",
       "      <td>181.0</td>\n",
       "      <td>0.00</td>\n",
       "      <td>21182.0</td>\n",
       "      <td>0.0</td>\n",
       "      <td>1</td>\n",
       "    </tr>\n",
       "    <tr>\n",
       "      <th>4</th>\n",
       "      <td>1</td>\n",
       "      <td>PAYMENT</td>\n",
       "      <td>11668.14</td>\n",
       "      <td>41554.0</td>\n",
       "      <td>29885.86</td>\n",
       "      <td>0.0</td>\n",
       "      <td>0.0</td>\n",
       "      <td>0</td>\n",
       "    </tr>\n",
       "  </tbody>\n",
       "</table>\n",
       "</div>"
      ],
      "text/plain": [
       "   step      type    amount  oldbalanceOrg  newbalanceOrig  oldbalanceDest  \\\n",
       "0     1   PAYMENT   9839.64       170136.0       160296.36             0.0   \n",
       "1     1   PAYMENT   1864.28        21249.0        19384.72             0.0   \n",
       "2     1  TRANSFER    181.00          181.0            0.00             0.0   \n",
       "3     1  CASH_OUT    181.00          181.0            0.00         21182.0   \n",
       "4     1   PAYMENT  11668.14        41554.0        29885.86             0.0   \n",
       "\n",
       "   newbalanceDest  isFraud  \n",
       "0             0.0        0  \n",
       "1             0.0        0  \n",
       "2             0.0        1  \n",
       "3             0.0        1  \n",
       "4             0.0        0  "
      ]
     },
     "execution_count": 22,
     "metadata": {},
     "output_type": "execute_result"
    }
   ],
   "source": [
    "# let us remove teh unnecessary columns while creating the model to predict fraud. \n",
    "df_model = df.drop(['nameOrig','nameDest','isFlaggedFraud'],axis=1)\n",
    "df_model.head()"
   ]
  },
  {
   "cell_type": "code",
   "execution_count": 23,
   "id": "c68f2874-8728-458b-81a6-c0ed4eefb526",
   "metadata": {},
   "outputs": [],
   "source": [
    "y = df_model['isFraud']\n",
    "X = df_model.drop(['isFraud'], axis = 1)"
   ]
  },
  {
   "cell_type": "code",
   "execution_count": 24,
   "id": "d50782b0-6fb7-436f-aeac-83b33e108aae",
   "metadata": {},
   "outputs": [],
   "source": [
    "X_train, X_test, y_train, y_test = train_test_split(X,y, test_size=0.3, stratify=y, random_state=42)"
   ]
  },
  {
   "cell_type": "markdown",
   "id": "a7362893-ca22-430c-a4b2-aad2d2c191d7",
   "metadata": {},
   "source": [
    "Using Column transformer pipeline\n",
    "1. Apply different preprocessing steps to different feature types (e.g., numerical vs categorical),\n",
    "\n",
    "2. Combine them using ColumnTransformer,\n",
    "\n",
    "3. Chain it into a full Pipeline with a classifier or regressor."
   ]
  },
  {
   "cell_type": "code",
   "execution_count": 25,
   "id": "c129f451-ad4b-44ce-a148-ac88f4ea339d",
   "metadata": {},
   "outputs": [],
   "source": [
    "# Defining the columns as separating the muerical and categorical data\n",
    "categorical_features = ['type']\n",
    "numerical_features = ['amount','oldbalanceOrg','newbalanceOrig','oldbalanceDest','newbalanceDest']"
   ]
  },
  {
   "cell_type": "code",
   "execution_count": 26,
   "id": "13ed4764-2692-42fc-bda9-c8fe89b498f5",
   "metadata": {},
   "outputs": [],
   "source": [
    "# Define Preprocessing for Each Column Type\n",
    "# 1. drop='first':\n",
    "# Purpose: To avoid multicollinearity (especially for linear models like Logistic Regression).\n",
    "# Drops the first category from each categorical feature.If a categorical feature has 3 categories (A, B, C),\n",
    "# it encodes only B and C. A is inferred when both are 0.\n",
    "# 2. handle_unknown='ignore':\n",
    "# Purpose: To safely handle unseen categories in test data that weren’t present in training.\n",
    "# If your training data contains categories ['A', 'B'] but test data contains 'C', this option avoids a crash\n",
    "# Best Practice — Combine Both:\n",
    "# But drop='first' is not recommended for folowing Tree-based Models:\n",
    "# Decision trees (like Random Forest, XGBoost) do not suffer from multicollinearity.\n",
    "numerical_transformer = StandardScaler()\n",
    "categorical_transformer = OneHotEncoder(drop='first', handle_unknown='ignore')"
   ]
  },
  {
   "cell_type": "code",
   "execution_count": 27,
   "id": "b7d0fd8b-9604-460f-83da-8e9321c87705",
   "metadata": {},
   "outputs": [],
   "source": [
    "# Combine with ColumnTransformer\n",
    "# preprocessing using column transformer\n",
    "preprocessor = ColumnTransformer(\n",
    "    transformers = [\n",
    "        ('num', numerical_transformer, numerical_features),\n",
    "        ('cat',categorical_transformer, categorical_features)\n",
    "    ], \n",
    "    remainder = 'drop'   # optional: drop other columns not listed\n",
    ")"
   ]
  },
  {
   "cell_type": "code",
   "execution_count": 28,
   "id": "b5a3389c-7702-4b63-a8ba-0138d8c325c5",
   "metadata": {},
   "outputs": [],
   "source": [
    "# !pip install scikit-learn==1.3.2"
   ]
  },
  {
   "cell_type": "code",
   "execution_count": 29,
   "id": "7a6a5619-2f15-40db-b23c-8d289cf96f7f",
   "metadata": {},
   "outputs": [
    {
     "name": "stdout",
     "output_type": "stream",
     "text": [
      "1.3.2\n"
     ]
    }
   ],
   "source": [
    "import sklearn\n",
    "print(sklearn.__version__)  # should show 1.3.2\n"
   ]
  },
  {
   "cell_type": "code",
   "execution_count": 30,
   "id": "31695aae-1d40-4713-a320-c5ea1f5c2f0b",
   "metadata": {},
   "outputs": [],
   "source": [
    "from imblearn.pipeline import Pipeline  # NOT sklearn.pipeline\n",
    "from imblearn.over_sampling import SMOTE"
   ]
  },
  {
   "cell_type": "markdown",
   "id": "3a5ee329-0717-4bb8-9d15-e70917cefc43",
   "metadata": {},
   "source": [
    " pipeline = Pipeline([\n",
    "    ('prep',preprocessor),\n",
    "    ('clf',LogisticRegression(class_weight='balanced', max_iter=1000)\n",
    "    \n",
    " ])"
   ]
  },
  {
   "cell_type": "markdown",
   "id": "2d6c7653-4dcd-4349-a415-8f9ee413de2e",
   "metadata": {},
   "source": [
    "- When to Use SMOTE? (Synthetic Minority Over-sampling Technique) is a powerful way to generate synthetic examples of the minority class (fraud).\n",
    "Apply SMOTE only to the training data, after preprocessing but before model training.\n",
    "This avoids:\n",
    "Data leakage (synthesizing frauds using knowledge of the test set),Overfitting to synthetic data in test metrics.\n",
    "- Where to Apply SMOTE in Your Pipeline\n",
    "- Don't apply SMOTE inside Pipeline if it includes train_test_split.\n",
    "Instead, apply SMOTE after splitting data and before fitting model."
   ]
  },
  {
   "cell_type": "code",
   "execution_count": 31,
   "id": "a7eb8395-696f-455e-a454-bdd31f9727fb",
   "metadata": {},
   "outputs": [],
   "source": [
    "import pandas as pd\n",
    "from sklearn.model_selection import train_test_split\n",
    "from sklearn.compose import ColumnTransformer\n",
    "from sklearn.preprocessing import StandardScaler, OneHotEncoder\n",
    "from sklearn.metrics import classification_report\n",
    "from imblearn.pipeline import Pipeline\n",
    "from imblearn.over_sampling import SMOTE\n",
    "from sklearn.linear_model import LogisticRegression\n",
    "from sklearn.tree import DecisionTreeClassifier\n",
    "from sklearn.ensemble import RandomForestClassifier\n",
    "from xgboost import XGBClassifier\n",
    "\n",
    "pipeline = Pipeline([\n",
    "    ('prep',preprocessor),\n",
    "    ('clf',LogisticRegression(class_weight='balanced', max_iter=1000))\n",
    "])\n",
    "\n"
   ]
  },
  {
   "cell_type": "markdown",
   "id": "f9baa92b-4e64-436f-9cd3-537b5c6a1f61",
   "metadata": {},
   "source": [
    "Model training using pipeline - use the 'fit' command"
   ]
  },
  {
   "cell_type": "code",
   "execution_count": 32,
   "id": "d20e5f98-accc-4318-ae72-1497c957a1a6",
   "metadata": {},
   "outputs": [
    {
     "data": {
      "text/html": [
       "<style>#sk-container-id-1 {color: black;}#sk-container-id-1 pre{padding: 0;}#sk-container-id-1 div.sk-toggleable {background-color: white;}#sk-container-id-1 label.sk-toggleable__label {cursor: pointer;display: block;width: 100%;margin-bottom: 0;padding: 0.3em;box-sizing: border-box;text-align: center;}#sk-container-id-1 label.sk-toggleable__label-arrow:before {content: \"▸\";float: left;margin-right: 0.25em;color: #696969;}#sk-container-id-1 label.sk-toggleable__label-arrow:hover:before {color: black;}#sk-container-id-1 div.sk-estimator:hover label.sk-toggleable__label-arrow:before {color: black;}#sk-container-id-1 div.sk-toggleable__content {max-height: 0;max-width: 0;overflow: hidden;text-align: left;background-color: #f0f8ff;}#sk-container-id-1 div.sk-toggleable__content pre {margin: 0.2em;color: black;border-radius: 0.25em;background-color: #f0f8ff;}#sk-container-id-1 input.sk-toggleable__control:checked~div.sk-toggleable__content {max-height: 200px;max-width: 100%;overflow: auto;}#sk-container-id-1 input.sk-toggleable__control:checked~label.sk-toggleable__label-arrow:before {content: \"▾\";}#sk-container-id-1 div.sk-estimator input.sk-toggleable__control:checked~label.sk-toggleable__label {background-color: #d4ebff;}#sk-container-id-1 div.sk-label input.sk-toggleable__control:checked~label.sk-toggleable__label {background-color: #d4ebff;}#sk-container-id-1 input.sk-hidden--visually {border: 0;clip: rect(1px 1px 1px 1px);clip: rect(1px, 1px, 1px, 1px);height: 1px;margin: -1px;overflow: hidden;padding: 0;position: absolute;width: 1px;}#sk-container-id-1 div.sk-estimator {font-family: monospace;background-color: #f0f8ff;border: 1px dotted black;border-radius: 0.25em;box-sizing: border-box;margin-bottom: 0.5em;}#sk-container-id-1 div.sk-estimator:hover {background-color: #d4ebff;}#sk-container-id-1 div.sk-parallel-item::after {content: \"\";width: 100%;border-bottom: 1px solid gray;flex-grow: 1;}#sk-container-id-1 div.sk-label:hover label.sk-toggleable__label {background-color: #d4ebff;}#sk-container-id-1 div.sk-serial::before {content: \"\";position: absolute;border-left: 1px solid gray;box-sizing: border-box;top: 0;bottom: 0;left: 50%;z-index: 0;}#sk-container-id-1 div.sk-serial {display: flex;flex-direction: column;align-items: center;background-color: white;padding-right: 0.2em;padding-left: 0.2em;position: relative;}#sk-container-id-1 div.sk-item {position: relative;z-index: 1;}#sk-container-id-1 div.sk-parallel {display: flex;align-items: stretch;justify-content: center;background-color: white;position: relative;}#sk-container-id-1 div.sk-item::before, #sk-container-id-1 div.sk-parallel-item::before {content: \"\";position: absolute;border-left: 1px solid gray;box-sizing: border-box;top: 0;bottom: 0;left: 50%;z-index: -1;}#sk-container-id-1 div.sk-parallel-item {display: flex;flex-direction: column;z-index: 1;position: relative;background-color: white;}#sk-container-id-1 div.sk-parallel-item:first-child::after {align-self: flex-end;width: 50%;}#sk-container-id-1 div.sk-parallel-item:last-child::after {align-self: flex-start;width: 50%;}#sk-container-id-1 div.sk-parallel-item:only-child::after {width: 0;}#sk-container-id-1 div.sk-dashed-wrapped {border: 1px dashed gray;margin: 0 0.4em 0.5em 0.4em;box-sizing: border-box;padding-bottom: 0.4em;background-color: white;}#sk-container-id-1 div.sk-label label {font-family: monospace;font-weight: bold;display: inline-block;line-height: 1.2em;}#sk-container-id-1 div.sk-label-container {text-align: center;}#sk-container-id-1 div.sk-container {/* jupyter's `normalize.less` sets `[hidden] { display: none; }` but bootstrap.min.css set `[hidden] { display: none !important; }` so we also need the `!important` here to be able to override the default hidden behavior on the sphinx rendered scikit-learn.org. See: https://github.com/scikit-learn/scikit-learn/issues/21755 */display: inline-block !important;position: relative;}#sk-container-id-1 div.sk-text-repr-fallback {display: none;}</style><div id=\"sk-container-id-1\" class=\"sk-top-container\"><div class=\"sk-text-repr-fallback\"><pre>Pipeline(steps=[(&#x27;prep&#x27;,\n",
       "                 ColumnTransformer(transformers=[(&#x27;num&#x27;, StandardScaler(),\n",
       "                                                  [&#x27;amount&#x27;, &#x27;oldbalanceOrg&#x27;,\n",
       "                                                   &#x27;newbalanceOrig&#x27;,\n",
       "                                                   &#x27;oldbalanceDest&#x27;,\n",
       "                                                   &#x27;newbalanceDest&#x27;]),\n",
       "                                                 (&#x27;cat&#x27;,\n",
       "                                                  OneHotEncoder(drop=&#x27;first&#x27;,\n",
       "                                                                handle_unknown=&#x27;ignore&#x27;),\n",
       "                                                  [&#x27;type&#x27;])])),\n",
       "                (&#x27;clf&#x27;,\n",
       "                 LogisticRegression(class_weight=&#x27;balanced&#x27;, max_iter=1000))])</pre><b>In a Jupyter environment, please rerun this cell to show the HTML representation or trust the notebook. <br />On GitHub, the HTML representation is unable to render, please try loading this page with nbviewer.org.</b></div><div class=\"sk-container\" hidden><div class=\"sk-item sk-dashed-wrapped\"><div class=\"sk-label-container\"><div class=\"sk-label sk-toggleable\"><input class=\"sk-toggleable__control sk-hidden--visually\" id=\"sk-estimator-id-1\" type=\"checkbox\" ><label for=\"sk-estimator-id-1\" class=\"sk-toggleable__label sk-toggleable__label-arrow\">Pipeline</label><div class=\"sk-toggleable__content\"><pre>Pipeline(steps=[(&#x27;prep&#x27;,\n",
       "                 ColumnTransformer(transformers=[(&#x27;num&#x27;, StandardScaler(),\n",
       "                                                  [&#x27;amount&#x27;, &#x27;oldbalanceOrg&#x27;,\n",
       "                                                   &#x27;newbalanceOrig&#x27;,\n",
       "                                                   &#x27;oldbalanceDest&#x27;,\n",
       "                                                   &#x27;newbalanceDest&#x27;]),\n",
       "                                                 (&#x27;cat&#x27;,\n",
       "                                                  OneHotEncoder(drop=&#x27;first&#x27;,\n",
       "                                                                handle_unknown=&#x27;ignore&#x27;),\n",
       "                                                  [&#x27;type&#x27;])])),\n",
       "                (&#x27;clf&#x27;,\n",
       "                 LogisticRegression(class_weight=&#x27;balanced&#x27;, max_iter=1000))])</pre></div></div></div><div class=\"sk-serial\"><div class=\"sk-item sk-dashed-wrapped\"><div class=\"sk-label-container\"><div class=\"sk-label sk-toggleable\"><input class=\"sk-toggleable__control sk-hidden--visually\" id=\"sk-estimator-id-2\" type=\"checkbox\" ><label for=\"sk-estimator-id-2\" class=\"sk-toggleable__label sk-toggleable__label-arrow\">prep: ColumnTransformer</label><div class=\"sk-toggleable__content\"><pre>ColumnTransformer(transformers=[(&#x27;num&#x27;, StandardScaler(),\n",
       "                                 [&#x27;amount&#x27;, &#x27;oldbalanceOrg&#x27;, &#x27;newbalanceOrig&#x27;,\n",
       "                                  &#x27;oldbalanceDest&#x27;, &#x27;newbalanceDest&#x27;]),\n",
       "                                (&#x27;cat&#x27;,\n",
       "                                 OneHotEncoder(drop=&#x27;first&#x27;,\n",
       "                                               handle_unknown=&#x27;ignore&#x27;),\n",
       "                                 [&#x27;type&#x27;])])</pre></div></div></div><div class=\"sk-parallel\"><div class=\"sk-parallel-item\"><div class=\"sk-item\"><div class=\"sk-label-container\"><div class=\"sk-label sk-toggleable\"><input class=\"sk-toggleable__control sk-hidden--visually\" id=\"sk-estimator-id-3\" type=\"checkbox\" ><label for=\"sk-estimator-id-3\" class=\"sk-toggleable__label sk-toggleable__label-arrow\">num</label><div class=\"sk-toggleable__content\"><pre>[&#x27;amount&#x27;, &#x27;oldbalanceOrg&#x27;, &#x27;newbalanceOrig&#x27;, &#x27;oldbalanceDest&#x27;, &#x27;newbalanceDest&#x27;]</pre></div></div></div><div class=\"sk-serial\"><div class=\"sk-item\"><div class=\"sk-estimator sk-toggleable\"><input class=\"sk-toggleable__control sk-hidden--visually\" id=\"sk-estimator-id-4\" type=\"checkbox\" ><label for=\"sk-estimator-id-4\" class=\"sk-toggleable__label sk-toggleable__label-arrow\">StandardScaler</label><div class=\"sk-toggleable__content\"><pre>StandardScaler()</pre></div></div></div></div></div></div><div class=\"sk-parallel-item\"><div class=\"sk-item\"><div class=\"sk-label-container\"><div class=\"sk-label sk-toggleable\"><input class=\"sk-toggleable__control sk-hidden--visually\" id=\"sk-estimator-id-5\" type=\"checkbox\" ><label for=\"sk-estimator-id-5\" class=\"sk-toggleable__label sk-toggleable__label-arrow\">cat</label><div class=\"sk-toggleable__content\"><pre>[&#x27;type&#x27;]</pre></div></div></div><div class=\"sk-serial\"><div class=\"sk-item\"><div class=\"sk-estimator sk-toggleable\"><input class=\"sk-toggleable__control sk-hidden--visually\" id=\"sk-estimator-id-6\" type=\"checkbox\" ><label for=\"sk-estimator-id-6\" class=\"sk-toggleable__label sk-toggleable__label-arrow\">OneHotEncoder</label><div class=\"sk-toggleable__content\"><pre>OneHotEncoder(drop=&#x27;first&#x27;, handle_unknown=&#x27;ignore&#x27;)</pre></div></div></div></div></div></div></div></div><div class=\"sk-item\"><div class=\"sk-estimator sk-toggleable\"><input class=\"sk-toggleable__control sk-hidden--visually\" id=\"sk-estimator-id-7\" type=\"checkbox\" ><label for=\"sk-estimator-id-7\" class=\"sk-toggleable__label sk-toggleable__label-arrow\">LogisticRegression</label><div class=\"sk-toggleable__content\"><pre>LogisticRegression(class_weight=&#x27;balanced&#x27;, max_iter=1000)</pre></div></div></div></div></div></div></div>"
      ],
      "text/plain": [
       "Pipeline(steps=[('prep',\n",
       "                 ColumnTransformer(transformers=[('num', StandardScaler(),\n",
       "                                                  ['amount', 'oldbalanceOrg',\n",
       "                                                   'newbalanceOrig',\n",
       "                                                   'oldbalanceDest',\n",
       "                                                   'newbalanceDest']),\n",
       "                                                 ('cat',\n",
       "                                                  OneHotEncoder(drop='first',\n",
       "                                                                handle_unknown='ignore'),\n",
       "                                                  ['type'])])),\n",
       "                ('clf',\n",
       "                 LogisticRegression(class_weight='balanced', max_iter=1000))])"
      ]
     },
     "execution_count": 32,
     "metadata": {},
     "output_type": "execute_result"
    }
   ],
   "source": [
    "pipeline.fit(X_train,y_train)"
   ]
  },
  {
   "cell_type": "code",
   "execution_count": 35,
   "id": "ac0107f8-2e28-43c9-be43-d0799d664957",
   "metadata": {},
   "outputs": [],
   "source": [
    "# make predictions\n",
    "y_pred= pipeline.predict(X_test)"
   ]
  },
  {
   "cell_type": "code",
   "execution_count": 36,
   "id": "adaece82-be9a-4acf-bc01-9fc5efa45302",
   "metadata": {},
   "outputs": [
    {
     "name": "stdout",
     "output_type": "stream",
     "text": [
      "              precision    recall  f1-score   support\n",
      "\n",
      "           0       1.00      0.95      0.97   1906322\n",
      "           1       0.02      0.94      0.04      2464\n",
      "\n",
      "    accuracy                           0.95   1908786\n",
      "   macro avg       0.51      0.94      0.51   1908786\n",
      "weighted avg       1.00      0.95      0.97   1908786\n",
      "\n"
     ]
    }
   ],
   "source": [
    "# compare y_pred with y_test using classification report\n",
    "print(classification_report(y_test,y_pred))"
   ]
  },
  {
   "cell_type": "code",
   "execution_count": 37,
   "id": "44f8589d-0813-4024-963e-5cbee51c6135",
   "metadata": {},
   "outputs": [
    {
     "name": "stdout",
     "output_type": "stream",
     "text": [
      "Requirement already satisfied: xgboost in c:\\users\\joe antony\\anaconda3\\lib\\site-packages (3.0.3)\n",
      "Requirement already satisfied: numpy in c:\\users\\joe antony\\anaconda3\\lib\\site-packages (from xgboost) (2.1.3)\n",
      "Requirement already satisfied: scipy in c:\\users\\joe antony\\anaconda3\\lib\\site-packages (from xgboost) (1.15.3)\n"
     ]
    }
   ],
   "source": [
    "!pip install xgboost"
   ]
  },
  {
   "cell_type": "code",
   "execution_count": 39,
   "id": "1a4cab3f-9aa0-4beb-8bbc-66b5d738422b",
   "metadata": {},
   "outputs": [
    {
     "name": "stdout",
     "output_type": "stream",
     "text": [
      "                     Precision    Recall  F1-Score  Accuracy\n",
      "Logistic Regression   0.907354  0.385552  0.541156  0.999156\n",
      "Decision Tree         0.891591  0.877841  0.884663  0.999705\n",
      "XGBoost               0.936458  0.729708  0.820255  0.999587\n"
     ]
    }
   ],
   "source": [
    "# Models dictionary (10 min to run)\n",
    "models = {\n",
    "    \"Logistic Regression\": LogisticRegression(max_iter=1000),\n",
    "    \"Decision Tree\": DecisionTreeClassifier(random_state=42),\n",
    "    \"XGBoost\": XGBClassifier(use_label_encoder=False, eval_metric='logloss', verbosity=0)\n",
    "  }\n",
    "\n",
    "# Train each model inside a pipeline\n",
    "results = {}\n",
    "for name, model in models.items():\n",
    "    pipe = Pipeline([\n",
    "        ('prep', preprocessor),\n",
    "        ('clf', model)\n",
    "    ])\n",
    "    pipe.fit(X_train, y_train)\n",
    "    y_pred = pipe.predict(X_test)\n",
    "    report = classification_report(y_test, y_pred, output_dict=True, zero_division=0)\n",
    "    results[name] = {\n",
    "        'Precision': report['1']['precision'],\n",
    "        'Recall': report['1']['recall'],\n",
    "        'F1-Score': report['1']['f1-score'],\n",
    "        'Accuracy': report['accuracy']\n",
    "    }\n",
    "\n",
    "# View results\n",
    "results_df = pd.DataFrame(results).T\n",
    "print(results_df)"
   ]
  },
  {
   "cell_type": "code",
   "execution_count": 40,
   "id": "20e1d13c-760b-4890-abac-83e510aa15ec",
   "metadata": {},
   "outputs": [
    {
     "data": {
      "text/plain": [
       "array([[1906200,     122],\n",
       "       [    666,    1798]], dtype=int64)"
      ]
     },
     "execution_count": 40,
     "metadata": {},
     "output_type": "execute_result"
    }
   ],
   "source": [
    "confusion_matrix(y_test,y_pred)"
   ]
  },
  {
   "cell_type": "code",
   "execution_count": 41,
   "id": "6a1f51a0-7c46-46b9-8dfd-804521d92da8",
   "metadata": {},
   "outputs": [
    {
     "data": {
      "text/plain": [
       "0.9471360330597564"
      ]
     },
     "execution_count": 41,
     "metadata": {},
     "output_type": "execute_result"
    }
   ],
   "source": [
    "# accuracy of testing data\n",
    "pipeline.score(X_test,y_test)"
   ]
  },
  {
   "cell_type": "markdown",
   "id": "932416b9-2df3-4188-b185-0df6277a99b5",
   "metadata": {},
   "source": [
    "For better precision and accuracy of class imbalance data use\n",
    "1. SMOTE (a kind of oversampling the minority class) or\n",
    "2. undersampling method"
   ]
  },
  {
   "cell_type": "code",
   "execution_count": 42,
   "id": "b1be7a27-41b8-4be6-b5a1-e0153c1ce64c",
   "metadata": {},
   "outputs": [],
   "source": [
    "# undersampling method as follows\n",
    "non_fraud_data = df[df['isFraud']==0]\n",
    "fraud_data = df[df['isFraud']==1]"
   ]
  },
  {
   "cell_type": "code",
   "execution_count": 43,
   "id": "a4dcad88-eeac-4799-84c8-f98707c1717d",
   "metadata": {},
   "outputs": [
    {
     "data": {
      "text/plain": [
       "(6354407, 11)"
      ]
     },
     "execution_count": 43,
     "metadata": {},
     "output_type": "execute_result"
    }
   ],
   "source": [
    "non_fraud_data.shape"
   ]
  },
  {
   "cell_type": "code",
   "execution_count": 44,
   "id": "2a0ef890-b69f-47a9-a1b2-d14a5bee0a34",
   "metadata": {},
   "outputs": [
    {
     "data": {
      "text/plain": [
       "(8213, 11)"
      ]
     },
     "execution_count": 44,
     "metadata": {},
     "output_type": "execute_result"
    }
   ],
   "source": [
    "fraud_data.shape"
   ]
  },
  {
   "cell_type": "code",
   "execution_count": 45,
   "id": "45b22dea-6c1c-44c5-88c4-ca2df96da8b2",
   "metadata": {},
   "outputs": [
    {
     "data": {
      "text/plain": [
       "(8213, 11)"
      ]
     },
     "execution_count": 45,
     "metadata": {},
     "output_type": "execute_result"
    }
   ],
   "source": [
    "# resample  or undersample the 'non fraud' data to match the 'fraud data size'\n",
    "resampled_nonfraud_data = non_fraud_data.sample(n=8213)\n",
    "resampled_nonfraud_data.shape"
   ]
  },
  {
   "cell_type": "code",
   "execution_count": 46,
   "id": "cd1a6289-933d-4a97-9b76-62ed062c3dc1",
   "metadata": {},
   "outputs": [
    {
     "data": {
      "text/plain": [
       "(16426, 11)"
      ]
     },
     "execution_count": 46,
     "metadata": {},
     "output_type": "execute_result"
    }
   ],
   "source": [
    "# concatenate resampled non_fraud with fraud dat which has sample size of 8123 ==> 8213+8213\n",
    "undersampled_data = pd.concat([resampled_nonfraud_data,fraud_data], ignore_index = True)\n",
    "undersampled_data.shape "
   ]
  },
  {
   "cell_type": "code",
   "execution_count": 47,
   "id": "3d6edac7-b6dd-4da6-b6ff-358e752061a4",
   "metadata": {},
   "outputs": [
    {
     "data": {
      "text/plain": [
       "isFraud\n",
       "0    8213\n",
       "1    8213\n",
       "Name: count, dtype: int64"
      ]
     },
     "execution_count": 47,
     "metadata": {},
     "output_type": "execute_result"
    }
   ],
   "source": [
    "# check fraud and non fraud distribution\n",
    "undersampled_data['isFraud'].value_counts()"
   ]
  },
  {
   "cell_type": "code",
   "execution_count": 48,
   "id": "d3b2e670-0f3a-4b69-93ed-804158d05cba",
   "metadata": {},
   "outputs": [],
   "source": [
    "# split X and y\n",
    "X_us = undersampled_data.drop('isFraud', axis = 1)\n",
    "y_us= undersampled_data['isFraud']"
   ]
  },
  {
   "cell_type": "code",
   "execution_count": 49,
   "id": "72f4a197-d5a6-46cb-85e1-012462329979",
   "metadata": {},
   "outputs": [],
   "source": [
    "X_train_us, X_test_us, y_train_us, y_test_us = train_test_split(X_us, y_us, test_size = 0.3, random_state = 42)"
   ]
  },
  {
   "cell_type": "code",
   "execution_count": 50,
   "id": "5d39842b-a2dd-4133-bee1-0698a92d34d0",
   "metadata": {},
   "outputs": [
    {
     "name": "stdout",
     "output_type": "stream",
     "text": [
      "                     Precision    Recall  F1-Score  Accuracy\n",
      "Logistic Regression   0.907354  0.385552  0.541156  0.999156\n",
      "Decision Tree         0.891591  0.877841  0.884663  0.999705\n",
      "XGBoost               0.936458  0.729708  0.820255  0.999587\n"
     ]
    }
   ],
   "source": [
    "# Models dictionary already defined\n",
    "# models = {\n",
    "#     \"Logistic Regression\": LogisticRegression(max_iter=1000),\n",
    "#     \"Decision Tree\": DecisionTreeClassifier(random_state=42),\n",
    "#     \"Random Forest\": RandomForestClassifier(random_state=42),\n",
    "#     \"XGBoost\": XGBClassifier(use_label_encoder=False, eval_metric='logloss', verbosity=0\n",
    "#   }\n",
    "\n",
    "# # Train each model inside a pipeline\n",
    "# results = {}\n",
    "# for name, model in models.items():\n",
    "#     pipe = Pipeline([\n",
    "#         ('prep', preprocessor),\n",
    "#         ('clf', model)\n",
    "#     ])\n",
    "\n",
    "pipe.fit(X_train_us, y_train_us)\n",
    "y_pred_us = pipe.predict(X_test_us)\n",
    "report_us = classification_report(y_test_us, y_pred_us, output_dict=True, zero_division=0)\n",
    "results[name] = {\n",
    "    'Precision': report['1']['precision'],\n",
    "    'Recall': report['1']['recall'],\n",
    "    'F1-Score': report['1']['f1-score'],\n",
    "    'Accuracy': report['accuracy']\n",
    "}\n",
    "\n",
    "# View results\n",
    "us_results_df = pd.DataFrame(results).T\n",
    "print(us_results_df)"
   ]
  },
  {
   "cell_type": "markdown",
   "id": "33200e7d-6227-48c1-bc93-abfc454a8625",
   "metadata": {},
   "source": [
    "using SMOTE (oversampling maethod)"
   ]
  },
  {
   "cell_type": "code",
   "execution_count": 51,
   "id": "366234eb-025a-4a47-9fb3-018e65b5edb1",
   "metadata": {},
   "outputs": [],
   "source": [
    "from imblearn.over_sampling import SMOTE"
   ]
  },
  {
   "cell_type": "markdown",
   "id": "41dac13a-5382-4f1e-b312-6bc4b5fedd7c",
   "metadata": {},
   "source": [
    "Drop or encode non-numeric features first\n",
    "\n",
    "Preprocess with StandardScaler and OneHotEncoder via ColumnTransformer\n",
    "\n",
    "Apply SMOTE to preprocessed numeric data"
   ]
  },
  {
   "cell_type": "code",
   "execution_count": 52,
   "id": "315bd23e-86ef-4e92-a299-6f230332dd95",
   "metadata": {},
   "outputs": [],
   "source": [
    "from imblearn.pipeline import Pipeline\n",
    "# # resampling done using the command 'SMOTE'\n",
    "# preprocessor = ColumnTransformer([\n",
    "#     ('num', StandardScaler(), numerical_features),\n",
    "#     ('cat', OneHotEncoder(handle_unknown='ignore'), categorical_features)\n",
    "# ])\n",
    "\n",
    "pipe = Pipeline([\n",
    "    ('prep', preprocessor),          # preprocessing includes string column names\n",
    "    ('smote', SMOTE(random_state=42)),  # oversampling works on numeric output of preprocessor\n",
    "    ('clf', LogisticRegression(max_iter=1000))\n",
    "])\n",
    "\n",
    "# Split before applying SMOTE (which is now in pipeline)\n",
    "X_train, X_test, y_train, y_test = train_test_split(X, y, stratify=y, random_state=42)\n",
    "\n",
    "# Train\n",
    "pipe.fit(X_train, y_train)\n",
    "\n",
    "# Predict\n",
    "y_pred = pipe.predict(X_test)\n"
   ]
  },
  {
   "cell_type": "markdown",
   "id": "a1da3bb8-e627-46e2-b2a0-6596470a12b3",
   "metadata": {},
   "source": [
    "1. Classification Report"
   ]
  },
  {
   "cell_type": "code",
   "execution_count": 53,
   "id": "08d242fb-2eda-4d10-ab68-24ae84bdd470",
   "metadata": {},
   "outputs": [
    {
     "name": "stdout",
     "output_type": "stream",
     "text": [
      "                     Precision    Recall  F1-Score  Accuracy\n",
      "Logistic Regression   0.907354  0.385552  0.541156  0.999156\n",
      "Decision Tree         0.891591  0.877841  0.884663  0.999705\n",
      "XGBoost               0.022425  0.950804  0.043817  0.946441\n"
     ]
    }
   ],
   "source": [
    "\n",
    "report = classification_report(y_test, y_pred, output_dict=True, zero_division=0)\n",
    "results[name] = {\n",
    "    'Precision': report['1']['precision'],\n",
    "    'Recall': report['1']['recall'],\n",
    "    'F1-Score': report['1']['f1-score'],\n",
    "    'Accuracy': report['accuracy']\n",
    "}\n",
    "\n",
    "# View results\n",
    "smote_results_df = pd.DataFrame(results).T\n",
    "print(smote_results_df)"
   ]
  },
  {
   "cell_type": "code",
   "execution_count": 54,
   "id": "af9cb1c9-76a1-4db1-9e64-797a2514fc94",
   "metadata": {},
   "outputs": [],
   "source": [
    "# oversampling here should be based on the minority class 'fraud =1' and undersampling should be based on majority class 'fraud = 0'"
   ]
  },
  {
   "cell_type": "markdown",
   "id": "7ad93e17",
   "metadata": {},
   "source": [
    "Step 4: Model Evaluation\n",
    "- ROC table\n",
    "- error rate\n",
    "- Confusion matrics\n",
    "-R squared\n",
    "- MSE\n",
    "- Cross validation\n"
   ]
  },
  {
   "cell_type": "code",
   "execution_count": 55,
   "id": "74ba8223-2be2-426c-82aa-ffdd32afe19c",
   "metadata": {},
   "outputs": [
    {
     "data": {
      "text/plain": [
       "array([6.31915364e-03, 1.54832605e-10, 8.37503648e-01, ...,\n",
       "       2.35078975e-10, 5.80115361e-13, 1.50260511e-10])"
      ]
     },
     "execution_count": 55,
     "metadata": {},
     "output_type": "execute_result"
    }
   ],
   "source": [
    "y_proba = pipe.predict_proba(X_test)[:, 1]  # For ROC AUC\n",
    "y_proba"
   ]
  },
  {
   "cell_type": "markdown",
   "id": "d07f0e35-86c1-4eb7-9af7-e564030c86fd",
   "metadata": {},
   "source": [
    "2. Confusion Matrix\n",
    "\n",
    "\n",
    "True Positives (fraud correctly caught)\n",
    "\n",
    "False Positives (false alarms)\n",
    "\n",
    "False Negatives (missed fraud)"
   ]
  },
  {
   "cell_type": "code",
   "execution_count": 56,
   "id": "612191bf-914d-4d63-81f9-85615e919646",
   "metadata": {},
   "outputs": [
    {
     "data": {
      "text/plain": [
       "<sklearn.metrics._plot.confusion_matrix.ConfusionMatrixDisplay at 0x27173d1fbb0>"
      ]
     },
     "execution_count": 56,
     "metadata": {},
     "output_type": "execute_result"
    },
    {
     "data": {
      "image/png": "[encoded data removed]",
      "text/plain": [
       "<Figure size 640x480 with 2 Axes>"
      ]
     },
     "metadata": {},
     "output_type": "display_data"
    }
   ],
   "source": [
    "from sklearn.metrics import confusion_matrix, ConfusionMatrixDisplay\n",
    "\n",
    "cm = confusion_matrix(y_test, y_pred)\n",
    "disp = ConfusionMatrixDisplay(confusion_matrix=cm, display_labels=['Not Fraud', 'Fraud'])\n",
    "disp.plot(cmap='Blues')\n"
   ]
  },
  {
   "cell_type": "markdown",
   "id": "b8800663-1a99-48f7-ac20-c5fe999f6068",
   "metadata": {},
   "source": [
    "3. ROC Curve + AUC Table\n",
    "   for imbalanced problems — tells how well the model ranks fraud vs non-fraud."
   ]
  },
  {
   "cell_type": "code",
   "execution_count": 57,
   "id": "f66a7a7c-8363-4eb1-9578-69caae53e79d",
   "metadata": {},
   "outputs": [
    {
     "data": {
      "image/png": "[encoded data removed]",
      "text/plain": [
       "<Figure size 640x480 with 1 Axes>"
      ]
     },
     "metadata": {},
     "output_type": "display_data"
    }
   ],
   "source": [
    "from sklearn.metrics import roc_curve, roc_auc_score\n",
    "import matplotlib.pyplot as plt\n",
    "\n",
    "fpr, tpr, thresholds = roc_curve(y_test, y_proba)\n",
    "roc_auc = roc_auc_score(y_test, y_proba)\n",
    "\n",
    "plt.figure()\n",
    "plt.plot(fpr, tpr, label=f\"AUC = {roc_auc:.2f}\")\n",
    "plt.plot([0, 1], [0, 1], 'k--')\n",
    "plt.xlabel(\"False Positive Rate\")\n",
    "plt.ylabel(\"True Positive Rate\")\n",
    "plt.title(\"ROC Curve\")\n",
    "plt.legend()\n",
    "plt.grid()\n",
    "plt.show()\n"
   ]
  },
  {
   "cell_type": "markdown",
   "id": "811dc55f-14dc-43c4-84cc-0c3ac176de37",
   "metadata": {},
   "source": [
    "k fold Cross-Validation"
   ]
  },
  {
   "cell_type": "code",
   "execution_count": 58,
   "id": "02eb5085-250a-4a2d-a5cf-0a2ba032bc6d",
   "metadata": {},
   "outputs": [],
   "source": [
    "# If you want to validate your model’s average performance across multiple folds: k= 5"
   ]
  },
  {
   "cell_type": "code",
   "execution_count": 59,
   "id": "5994e868-6ada-41c3-bb06-b381f0d2b357",
   "metadata": {},
   "outputs": [
    {
     "name": "stdout",
     "output_type": "stream",
     "text": [
      "5-Fold CV F1-Score: [0.03733953 0.04352933 0.04552985 0.04840122 0.04872521]\n",
      "Mean F1: 0.04470502854152025\n"
     ]
    }
   ],
   "source": [
    "from sklearn.model_selection import cross_val_score\n",
    "\n",
    "cv_scores = cross_val_score(pipe, X, y, cv=5, scoring='f1')  # or 'roc_auc', 'accuracy'\n",
    "print(\"5-Fold CV F1-Score:\", cv_scores)\n",
    "print(\"Mean F1:\", cv_scores.mean())\n"
   ]
  },
  {
   "cell_type": "markdown",
   "id": "ac9ca484-04bd-44cd-a0e6-d0d3c19789d4",
   "metadata": {},
   "source": [
    "FRAUD AND RISK ANALYSIS\n",
    "- fraud analysis (detecting fraudulent patterns)\n",
    "- risk analysis (understanding behaviors that increase fraud risk)."
   ]
  },
  {
   "cell_type": "markdown",
   "id": "fb9eaad4-14bc-41ef-b0fc-cab69a7f2a57",
   "metadata": {},
   "source": [
    "1. FRAUD ANALYSIS\n",
    "Goal: Detect and understand fraud patterns\n",
    "- What types of transactions are most likely to be fraud?\n",
    "\n",
    "- Are there specific time windows or amounts that show higher fraud?\n",
    "\n",
    "- Which accounts or destinations are repeatedly involved in fraud?"
   ]
  },
  {
   "cell_type": "code",
   "execution_count": 60,
   "id": "347f372e-53c5-4a7b-9845-8f143d2dd21b",
   "metadata": {},
   "outputs": [
    {
     "data": {
      "text/plain": [
       "<Axes: xlabel='type', ylabel='count'>"
      ]
     },
     "execution_count": 60,
     "metadata": {},
     "output_type": "execute_result"
    },
    {
     "data": {
      "image/png": "[encoded data removed]",
      "text/plain": [
       "<Figure size 640x480 with 1 Axes>"
      ]
     },
     "metadata": {},
     "output_type": "display_data"
    }
   ],
   "source": [
    "# Shows which types (TRANSFER, CASH_OUT) are most fraud-prone\n",
    "import seaborn as sns\n",
    "sns.countplot(data=df, x='type', hue='isFraud')\n"
   ]
  },
  {
   "cell_type": "code",
   "execution_count": 61,
   "id": "11a65274-b217-43b5-9e1d-b01baaafbfef",
   "metadata": {},
   "outputs": [
    {
     "data": {
      "text/plain": [
       "<Axes: xlabel='isFraud', ylabel='amount'>"
      ]
     },
     "execution_count": 61,
     "metadata": {},
     "output_type": "execute_result"
    },
    {
     "data": {
      "image/png": "[encoded data removed]",
      "text/plain": [
       "<Figure size 640x480 with 1 Axes>"
      ]
     },
     "metadata": {},
     "output_type": "display_data"
    }
   ],
   "source": [
    "# Amount Distribution for Fraud vs. Non-Fraud\n",
    "# Are frauds happening at high or specific amounts? (< $50000)\n",
    "sns.boxplot(data=df, x='isFraud', y='amount')\n"
   ]
  },
  {
   "cell_type": "code",
   "execution_count": 62,
   "id": "5d65cf1b-71e5-4141-be71-494e26686ab6",
   "metadata": {},
   "outputs": [
    {
     "data": {
      "text/plain": [
       "<Axes: xlabel='hour', ylabel='Count'>"
      ]
     },
     "execution_count": 62,
     "metadata": {},
     "output_type": "execute_result"
    },
    {
     "data": {
      "image/png": "[encoded data removed]",
      "text/plain": [
       "<Figure size 640x480 with 1 Axes>"
      ]
     },
     "metadata": {},
     "output_type": "display_data"
    }
   ],
   "source": [
    "# Hourly Trend of Fraud\n",
    "# Identify time-of-day with higher fraud activity.\n",
    "df['hour'] = df['step'] % 24\n",
    "sns.histplot(data=df[df['isFraud']==1], x='hour', bins=24)\n"
   ]
  },
  {
   "cell_type": "code",
   "execution_count": 63,
   "id": "56307f87-f625-4732-a4b7-29ba8a31a6d3",
   "metadata": {},
   "outputs": [
    {
     "data": {
      "text/plain": [
       "nameOrig\n",
       "C1305486145    1\n",
       "C755286039     1\n",
       "C973279667     1\n",
       "C258213312     1\n",
       "C1640703547    1\n",
       "Name: count, dtype: int64"
      ]
     },
     "execution_count": 63,
     "metadata": {},
     "output_type": "execute_result"
    }
   ],
   "source": [
    "# Frequent Fraudulent Accounts\n",
    "# Flag accounts with repeated frauds.\n",
    "df[df['isFraud']==1]['nameOrig'].value_counts().head()\n"
   ]
  },
  {
   "cell_type": "code",
   "execution_count": 64,
   "id": "a5b8462e-bfa0-4578-a5d6-cc713b5666c1",
   "metadata": {},
   "outputs": [
    {
     "data": {
      "text/html": [
       "<div>\n",
       "<style scoped>\n",
       "    .dataframe tbody tr th:only-of-type {\n",
       "        vertical-align: middle;\n",
       "    }\n",
       "\n",
       "    .dataframe tbody tr th {\n",
       "        vertical-align: top;\n",
       "    }\n",
       "\n",
       "    .dataframe thead th {\n",
       "        text-align: right;\n",
       "    }\n",
       "</style>\n",
       "<table border=\"1\" class=\"dataframe\">\n",
       "  <thead>\n",
       "    <tr style=\"text-align: right;\">\n",
       "      <th></th>\n",
       "      <th>step</th>\n",
       "      <th>type</th>\n",
       "      <th>amount</th>\n",
       "      <th>nameOrig</th>\n",
       "      <th>oldbalanceOrg</th>\n",
       "      <th>newbalanceOrig</th>\n",
       "      <th>nameDest</th>\n",
       "      <th>oldbalanceDest</th>\n",
       "      <th>newbalanceDest</th>\n",
       "      <th>isFraud</th>\n",
       "      <th>isFlaggedFraud</th>\n",
       "      <th>hour</th>\n",
       "    </tr>\n",
       "  </thead>\n",
       "  <tbody>\n",
       "    <tr>\n",
       "      <th>2</th>\n",
       "      <td>1</td>\n",
       "      <td>TRANSFER</td>\n",
       "      <td>181.00</td>\n",
       "      <td>C1305486145</td>\n",
       "      <td>181.0</td>\n",
       "      <td>0.0</td>\n",
       "      <td>C553264065</td>\n",
       "      <td>0.0</td>\n",
       "      <td>0.00</td>\n",
       "      <td>1</td>\n",
       "      <td>0</td>\n",
       "      <td>1</td>\n",
       "    </tr>\n",
       "    <tr>\n",
       "      <th>3</th>\n",
       "      <td>1</td>\n",
       "      <td>CASH_OUT</td>\n",
       "      <td>181.00</td>\n",
       "      <td>C840083671</td>\n",
       "      <td>181.0</td>\n",
       "      <td>0.0</td>\n",
       "      <td>C38997010</td>\n",
       "      <td>21182.0</td>\n",
       "      <td>0.00</td>\n",
       "      <td>1</td>\n",
       "      <td>0</td>\n",
       "      <td>1</td>\n",
       "    </tr>\n",
       "    <tr>\n",
       "      <th>15</th>\n",
       "      <td>1</td>\n",
       "      <td>CASH_OUT</td>\n",
       "      <td>229133.94</td>\n",
       "      <td>C905080434</td>\n",
       "      <td>15325.0</td>\n",
       "      <td>0.0</td>\n",
       "      <td>C476402209</td>\n",
       "      <td>5083.0</td>\n",
       "      <td>51513.44</td>\n",
       "      <td>0</td>\n",
       "      <td>0</td>\n",
       "      <td>1</td>\n",
       "    </tr>\n",
       "    <tr>\n",
       "      <th>19</th>\n",
       "      <td>1</td>\n",
       "      <td>TRANSFER</td>\n",
       "      <td>215310.30</td>\n",
       "      <td>C1670993182</td>\n",
       "      <td>705.0</td>\n",
       "      <td>0.0</td>\n",
       "      <td>C1100439041</td>\n",
       "      <td>22425.0</td>\n",
       "      <td>0.00</td>\n",
       "      <td>0</td>\n",
       "      <td>0</td>\n",
       "      <td>1</td>\n",
       "    </tr>\n",
       "    <tr>\n",
       "      <th>24</th>\n",
       "      <td>1</td>\n",
       "      <td>TRANSFER</td>\n",
       "      <td>311685.89</td>\n",
       "      <td>C1984094095</td>\n",
       "      <td>10835.0</td>\n",
       "      <td>0.0</td>\n",
       "      <td>C932583850</td>\n",
       "      <td>6267.0</td>\n",
       "      <td>2719172.89</td>\n",
       "      <td>0</td>\n",
       "      <td>0</td>\n",
       "      <td>1</td>\n",
       "    </tr>\n",
       "  </tbody>\n",
       "</table>\n",
       "</div>"
      ],
      "text/plain": [
       "    step      type     amount     nameOrig  oldbalanceOrg  newbalanceOrig  \\\n",
       "2      1  TRANSFER     181.00  C1305486145          181.0             0.0   \n",
       "3      1  CASH_OUT     181.00   C840083671          181.0             0.0   \n",
       "15     1  CASH_OUT  229133.94   C905080434        15325.0             0.0   \n",
       "19     1  TRANSFER  215310.30  C1670993182          705.0             0.0   \n",
       "24     1  TRANSFER  311685.89  C1984094095        10835.0             0.0   \n",
       "\n",
       "       nameDest  oldbalanceDest  newbalanceDest  isFraud  isFlaggedFraud  hour  \n",
       "2    C553264065             0.0            0.00        1               0     1  \n",
       "3     C38997010         21182.0            0.00        1               0     1  \n",
       "15   C476402209          5083.0        51513.44        0               0     1  \n",
       "19  C1100439041         22425.0            0.00        0               0     1  \n",
       "24   C932583850          6267.0      2719172.89        0               0     1  "
      ]
     },
     "execution_count": 64,
     "metadata": {},
     "output_type": "execute_result"
    }
   ],
   "source": [
    "# Origin–Destination Behavior\n",
    "# let us find the names and other details of customers(senders) whose balance went zero during fraudulent transaction('cash_out' and 'transfer')\n",
    "# create a df using three filters\n",
    "zero_after_trans = df[\n",
    "    (df['oldbalanceOrg']> 0) &\n",
    "    (df['newbalanceOrig'] ==0) &\n",
    "    (df['type'].isin(['TRANSFER','CASH_OUT']))    \n",
    "]\n",
    "zero_after_trans.head()"
   ]
  },
  {
   "cell_type": "markdown",
   "id": "a19b1c14-5f10-4d88-9b2f-fa00c5dcfa82",
   "metadata": {},
   "source": [
    "2. RISK ANALYSIS\n",
    "Goal: Identify accounts or transaction profiles at high risk of future fraud\n",
    "\n",
    "a. Flag Suspicious Transactions Even If Not Labeled Fraud:\n",
    "\n",
    "TRANSFER or CASH_OUT with:\n",
    "- zero original balance (oldbalanceOrg == 0)\n",
    "- large amount transferred\n",
    "- no change in destination balance"
   ]
  },
  {
   "cell_type": "code",
   "execution_count": 65,
   "id": "8ea50772-0094-418f-b2d5-451bd804c8c5",
   "metadata": {},
   "outputs": [],
   "source": [
    "risky = df[\n",
    "    (df['type'].isin(['TRANSFER', 'CASH_OUT'])) &\n",
    "    (df['oldbalanceOrg'] == 0) &\n",
    "    (df['amount'] > 10000) &\n",
    "    (df['newbalanceDest'] == df['oldbalanceDest'])\n",
    "]\n"
   ]
  },
  {
   "cell_type": "markdown",
   "id": "49b611f8-2400-4e35-81f1-771b5cd0427a",
   "metadata": {},
   "source": [
    "b.Create a Risk Score Per Account\n",
    "- Use heuristics or a model to score:\n",
    "- Sort by risk score to monitor accounts"
   ]
  },
  {
   "cell_type": "code",
   "execution_count": 66,
   "id": "d66eba56-069e-4b5e-acf1-a521426bf2b9",
   "metadata": {},
   "outputs": [
    {
     "data": {
      "text/plain": [
       "0          0\n",
       "1          0\n",
       "2          1\n",
       "3          1\n",
       "4          1\n",
       "          ..\n",
       "6362615    2\n",
       "6362616    2\n",
       "6362617    2\n",
       "6362618    2\n",
       "6362619    2\n",
       "Name: riskScore, Length: 6362620, dtype: int32"
      ]
     },
     "execution_count": 66,
     "metadata": {},
     "output_type": "execute_result"
    }
   ],
   "source": [
    "df['riskScore'] = (\n",
    "    (df['amount'] > 10000).astype(int) +\n",
    "    (df['oldbalanceOrg'] == 0).astype(int) +\n",
    "    (df['type'].isin(['TRANSFER', 'CASH_OUT'])).astype(int)\n",
    ")\n",
    "df['riskScore']"
   ]
  },
  {
   "cell_type": "markdown",
   "id": "a08ab08d-fa1b-46ad-b331-5a805ac11c0a",
   "metadata": {},
   "source": [
    "c.Unsupervised Anomaly Detection:\n",
    "- Use Isolation Forest or Autoencoders to catch unknown fraud:\n",
    "- anomaly = -1 are suspicious"
   ]
  },
  {
   "cell_type": "code",
   "execution_count": 67,
   "id": "9957c981-c77e-4770-aec7-e060544548b4",
   "metadata": {},
   "outputs": [
    {
     "data": {
      "text/plain": [
       "0          1\n",
       "1          1\n",
       "2          1\n",
       "3          1\n",
       "4          1\n",
       "          ..\n",
       "6362615    1\n",
       "6362616    1\n",
       "6362617    1\n",
       "6362618    1\n",
       "6362619    1\n",
       "Name: anomaly, Length: 6362620, dtype: int32"
      ]
     },
     "execution_count": 67,
     "metadata": {},
     "output_type": "execute_result"
    }
   ],
   "source": [
    "from sklearn.ensemble import IsolationForest\n",
    "iso = IsolationForest(contamination=0.01, random_state=42)\n",
    "df['anomaly'] = iso.fit_predict(df[numerical_features])\n",
    "df['anomaly']"
   ]
  },
  {
   "cell_type": "markdown",
   "id": "f30b7c1a-1a31-4d9c-9fbb-25fdf6959a37",
   "metadata": {},
   "source": [
    " export the trained models for use in your Streamlit app:"
   ]
  },
  {
   "cell_type": "code",
   "execution_count": 68,
   "id": "4214d63a-a6a1-4eb9-ba29-a9fd29eb3990",
   "metadata": {},
   "outputs": [
    {
     "data": {
      "text/plain": [
       "['fraud_model_tree.pkl']"
      ]
     },
     "execution_count": 68,
     "metadata": {},
     "output_type": "execute_result"
    }
   ],
   "source": [
    "# Logistic Regression Training with Export\n",
    "from sklearn.pipeline import Pipeline\n",
    "from sklearn.linear_model import LogisticRegression\n",
    "import joblib\n",
    "\n",
    "pipe_logreg = Pipeline([\n",
    "    ('prep', preprocessor),\n",
    "    ('clf', LogisticRegression(max_iter=1000))\n",
    "])\n",
    "\n",
    "pipe_logreg.fit(X_train, y_train)\n",
    "joblib.dump(pipe_logreg, 'fraud_model_logreg.pkl')  # Save model\n",
    "\n",
    "# Decision Tree Training with Export\n",
    "from sklearn.tree import DecisionTreeClassifier\n",
    "\n",
    "pipe_tree = Pipeline([\n",
    "    ('prep', preprocessor),\n",
    "    ('clf', DecisionTreeClassifier(random_state=42))\n",
    "])\n",
    "\n",
    "pipe_tree.fit(X_train, y_train)\n",
    "joblib.dump(pipe_tree, 'fraud_model_tree.pkl')  # Save model\n"
   ]
  },
  {
   "cell_type": "code",
   "execution_count": 69,
   "id": "b4f4bd59-9ead-4457-9f23-94c7827ec818",
   "metadata": {},
   "outputs": [],
   "source": [
    "model = joblib.load(\"fraud_model_logreg.pkl\")  # or fraud_model_tree.pkl\n"
   ]
  },
  {
   "cell_type": "markdown",
   "id": "4edfd093",
   "metadata": {},
   "source": [
    "Step 5 Deployment"
   ]
  }
 ],
 "metadata": {
  "kernelspec": {
   "display_name": "Python (env_fraud)",
   "language": "python",
   "name": "env_fraud"
  },
  "language_info": {
   "codemirror_mode": {
    "name": "ipython",
    "version": 3
   },
   "file_extension": ".py",
   "mimetype": "text/x-python",
   "name": "python",
   "nbconvert_exporter": "python",
   "pygments_lexer": "ipython3",
   "version": "3.10.18"
  }
 },
 "nbformat": 4,
 "nbformat_minor": 5
}
